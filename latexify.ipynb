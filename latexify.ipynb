{
 "cells": [
  {
   "cell_type": "code",
<<<<<<< Updated upstream
   "execution_count": 4,
   "metadata": {},
   "outputs": [
    {
     "name": "stdout",
     "output_type": "stream",
     "text": [
      "\\begin{table}[h]\n",
      "    \\centering\n",
      "    \\begin{tabular}{|c|l||c|l|}\n",
      "        \\hline\n",
      "        Index & Class Name & Index & Class Name \\\\ \n",
      "        \\hline\n",
      "        0 & Bird & 64 & Vegetation \\\\ \n",
      "        1 & Ground Animal & 65 & Water \\\\ \n",
      "        2 & Ambiguous Barrier & 66 & Banner \\\\ \n",
      "        3 & Concrete Block & 67 & Bench \\\\ \n",
      "        4 & Curb & 68 & Bike Rack \\\\ \n",
      "        5 & Fence & 69 & Catch Basin \\\\ \n",
      "        6 & Guard Rail & 70 & CCTV Camera \\\\ \n",
      "        7 & Barrier & 71 & Fire Hydrant \\\\ \n",
      "        8 & Road Median & 72 & Junction Box \\\\ \n",
      "        9 & Road Side & 73 & Mailbox \\\\ \n",
      "        10 & Lane Separator & 74 & Manhole \\\\ \n",
      "        11 & Temporary Barrier & 75 & Parking Meter \\\\ \n",
      "        12 & Wall & 76 & Phone Booth \\\\ \n",
      "        13 & Bike Lane & 77 & Pothole \\\\ \n",
      "        14 & Crosswalk - Plain & 78 & Signage - Advertisement \\\\ \n",
      "        15 & Curb Cut & 79 & Signage - Ambiguous \\\\ \n",
      "        16 & Driveway & 80 & Signage - Back \\\\ \n",
      "        17 & Parking & 81 & Signage - Information \\\\ \n",
      "        18 & Parking Aisle & 82 & Signage - Other \\\\ \n",
      "        19 & Pedestrian Area & 83 & Signage - Store \\\\ \n",
      "        20 & Rail Track & 84 & Street Light \\\\ \n",
      "        21 & Road & 85 & Pole \\\\ \n",
      "        22 & Road Shoulder & 86 & Pole Group \\\\ \n",
      "        23 & Service Lane & 87 & Traffic Sign Frame \\\\ \n",
      "        24 & Sidewalk & 88 & Utility Pole \\\\ \n",
      "        25 & Traffic Island & 89 & Traffic Cone \\\\ \n",
      "        26 & Bridge & 90 & Traffic Light - General (Single) \\\\ \n",
      "        27 & Building & 91 & Traffic Light - Pedestrians \\\\ \n",
      "        28 & Garage & 92 & Traffic Light - General (Upright) \\\\ \n",
      "        29 & Tunnel & 93 & Traffic Light - General (Horizontal) \\\\ \n",
      "        30 & Person & 94 & Traffic Light - Cyclists \\\\ \n",
      "        31 & Person Group & 95 & Traffic Light - Other \\\\ \n",
      "        32 & Bicyclist & 96 & Traffic Sign - Ambiguous \\\\ \n",
      "        33 & Motorcyclist & 97 & Traffic Sign (Back) \\\\ \n",
      "        34 & Other Rider & 98 & Traffic Sign - Direction (Back) \\\\ \n",
      "        35 & Lane Marking - Dashed Line & 99 & Traffic Sign - Direction (Front) \\\\ \n",
      "        36 & Lane Marking - Straight Line & 100 & Traffic Sign (Front) \\\\ \n",
      "        37 & Lane Marking - Zigzag Line & 101 & Traffic Sign - Parking \\\\ \n",
      "        38 & Lane Marking - Ambiguous & 102 & Traffic Sign - Temporary (Back) \\\\ \n",
      "        39 & Lane Marking - Arrow (Left) & 103 & Traffic Sign - Temporary (Front) \\\\ \n",
      "        40 & Lane Marking - Arrow (Other) & 104 & Trash Can \\\\ \n",
      "        41 & Lane Marking - Arrow (Right) & 105 & Bicycle \\\\ \n",
      "        42 & Lane Marking - Arrow (Split Left or Straight) & 106 & Boat \\\\ \n",
      "        43 & Lane Marking - Arrow (Split Right or Straight) & 107 & Bus \\\\ \n",
      "        44 & Lane Marking - Arrow (Straight) & 108 & Car \\\\ \n",
      "        45 & Lane Marking - Crosswalk & 109 & Caravan \\\\ \n",
      "        46 & Lane Marking - Give Way (Row) & 110 & Motorcycle \\\\ \n",
      "        47 & Lane Marking - Give Way (Single) & 111 & On Rails \\\\ \n",
      "        48 & Lane Marking - Hatched (Chevron) & 112 & Other Vehicle \\\\ \n",
      "        49 & Lane Marking - Hatched (Diagonal) & 113 & Trailer \\\\ \n",
      "        50 & Lane Marking - Other & 114 & Truck \\\\ \n",
      "        51 & Lane Marking - Stop Line & 115 & Vehicle Group \\\\ \n",
      "        52 & Lane Marking - Symbol (Bicycle) & 116 & Wheeled Slow \\\\ \n",
      "        53 & Lane Marking - Symbol (Other) & 117 & Water Valve \\\\ \n",
      "        54 & Lane Marking - Text & 118 & Car Mount \\\\ \n",
      "        55 & Lane Marking (only) - Dashed Line & 119 & Dynamic \\\\ \n",
      "        56 & Lane Marking (only) - Crosswalk & 120 & Ego Vehicle \\\\ \n",
      "        57 & Lane Marking (only) - Other & 121 & Ground \\\\ \n",
      "        58 & Lane Marking (only) - Test & 122 & Static \\\\ \n",
      "        59 & Mountain & 123 & Unlabeled \\\\ \n",
      "        60 & Sand &  &  \\\\ \n",
      "        61 & Sky &  &  \\\\ \n",
      "        62 & Snow &  &  \\\\ \n",
      "        63 & Terrain &  &  \\\\ \n",
      "\n",
      "        \\hline\n",
      "    \\end{tabular}\n",
      "    \\caption{Mapillary Vistas Classes}\n",
      "    \\label{tab:mapillary_classes}\n",
      "\\end{table}\n",
      "\n"
=======
   "execution_count": 2,
   "metadata": {},
   "outputs": [
    {
     "ename": "FileNotFoundError",
     "evalue": "[Errno 2] No such file or directory: 'Mapillary_Vistas/config_v2.0.json'",
     "output_type": "error",
     "traceback": [
      "\u001b[0;31m---------------------------------------------------------------------------\u001b[0m",
      "\u001b[0;31mFileNotFoundError\u001b[0m                         Traceback (most recent call last)",
      "Cell \u001b[0;32mIn[2], line 8\u001b[0m\n\u001b[1;32m      6\u001b[0m \u001b[38;5;66;03m# Load Mapillary Vistas config file\u001b[39;00m\n\u001b[1;32m      7\u001b[0m CONFIG_PATH \u001b[38;5;241m=\u001b[39m \u001b[38;5;124m\"\u001b[39m\u001b[38;5;124mMapillary_Vistas/config_v2.0.json\u001b[39m\u001b[38;5;124m\"\u001b[39m\n\u001b[0;32m----> 8\u001b[0m \u001b[38;5;28;01mwith\u001b[39;00m \u001b[38;5;28;43mopen\u001b[39;49m\u001b[43m(\u001b[49m\u001b[43mCONFIG_PATH\u001b[49m\u001b[43m,\u001b[49m\u001b[43m \u001b[49m\u001b[38;5;124;43m\"\u001b[39;49m\u001b[38;5;124;43mr\u001b[39;49m\u001b[38;5;124;43m\"\u001b[39;49m\u001b[43m)\u001b[49m \u001b[38;5;28;01mas\u001b[39;00m f:\n\u001b[1;32m      9\u001b[0m     config \u001b[38;5;241m=\u001b[39m json\u001b[38;5;241m.\u001b[39mload(f)\n\u001b[1;32m     11\u001b[0m \u001b[38;5;66;03m# Extract class names and indices\u001b[39;00m\n",
      "File \u001b[0;32m/opt/homebrew/anaconda3/envs/studi/lib/python3.9/site-packages/IPython/core/interactiveshell.py:284\u001b[0m, in \u001b[0;36m_modified_open\u001b[0;34m(file, *args, **kwargs)\u001b[0m\n\u001b[1;32m    277\u001b[0m \u001b[38;5;28;01mif\u001b[39;00m file \u001b[38;5;129;01min\u001b[39;00m {\u001b[38;5;241m0\u001b[39m, \u001b[38;5;241m1\u001b[39m, \u001b[38;5;241m2\u001b[39m}:\n\u001b[1;32m    278\u001b[0m     \u001b[38;5;28;01mraise\u001b[39;00m \u001b[38;5;167;01mValueError\u001b[39;00m(\n\u001b[1;32m    279\u001b[0m         \u001b[38;5;124mf\u001b[39m\u001b[38;5;124m\"\u001b[39m\u001b[38;5;124mIPython won\u001b[39m\u001b[38;5;124m'\u001b[39m\u001b[38;5;124mt let you open fd=\u001b[39m\u001b[38;5;132;01m{\u001b[39;00mfile\u001b[38;5;132;01m}\u001b[39;00m\u001b[38;5;124m by default \u001b[39m\u001b[38;5;124m\"\u001b[39m\n\u001b[1;32m    280\u001b[0m         \u001b[38;5;124m\"\u001b[39m\u001b[38;5;124mas it is likely to crash IPython. If you know what you are doing, \u001b[39m\u001b[38;5;124m\"\u001b[39m\n\u001b[1;32m    281\u001b[0m         \u001b[38;5;124m\"\u001b[39m\u001b[38;5;124myou can use builtins\u001b[39m\u001b[38;5;124m'\u001b[39m\u001b[38;5;124m open.\u001b[39m\u001b[38;5;124m\"\u001b[39m\n\u001b[1;32m    282\u001b[0m     )\n\u001b[0;32m--> 284\u001b[0m \u001b[38;5;28;01mreturn\u001b[39;00m \u001b[43mio_open\u001b[49m\u001b[43m(\u001b[49m\u001b[43mfile\u001b[49m\u001b[43m,\u001b[49m\u001b[43m \u001b[49m\u001b[38;5;241;43m*\u001b[39;49m\u001b[43margs\u001b[49m\u001b[43m,\u001b[49m\u001b[43m \u001b[49m\u001b[38;5;241;43m*\u001b[39;49m\u001b[38;5;241;43m*\u001b[39;49m\u001b[43mkwargs\u001b[49m\u001b[43m)\u001b[49m\n",
      "\u001b[0;31mFileNotFoundError\u001b[0m: [Errno 2] No such file or directory: 'Mapillary_Vistas/config_v2.0.json'"
>>>>>>> Stashed changes
     ]
    }
   ],
   "source": [
    "import json\n",
    "\n",
    "# Define the split parameter at which the table should be divided\n",
<<<<<<< Updated upstream
    "TABLE_SPLIT = 64  # Change this value as needed\n",
=======
    "TABLE_SPLIT = 60  # Change this value as needed\n",
>>>>>>> Stashed changes
    "\n",
    "# Load Mapillary Vistas config file\n",
    "CONFIG_PATH = \"Mapillary_Vistas/config_v2.0.json\"\n",
    "with open(CONFIG_PATH, \"r\") as f:\n",
    "    config = json.load(f)\n",
    "\n",
    "# Extract class names and indices\n",
    "class_entries = [(i, info[\"readable\"]) for i, info in enumerate(config[\"labels\"])]\n",
    "\n",
    "# Split into left and right table based on TABLE_SPLIT\n",
    "left_side = class_entries[:TABLE_SPLIT]\n",
    "right_side = class_entries[TABLE_SPLIT:]\n",
    "\n",
    "# Generate LaTeX table\n",
    "latex_table = \"\"\"\\\\begin{table}[h]\n",
    "    \\\\centering\n",
    "    \\\\begin{tabular}{|c|l||c|l|}\n",
    "        \\\\hline\n",
    "        Index & Class Name & Index & Class Name \\\\\\\\ \n",
    "        \\\\hline\n",
    "\"\"\"\n",
    "\n",
    "# Fill table rows\n",
    "for i in range(max(len(left_side), len(right_side))):\n",
    "    left = f\"{left_side[i][0]} & {left_side[i][1]}\" if i < len(left_side) else \" & \"\n",
    "    right = f\"{right_side[i][0]} & {right_side[i][1]}\" if i < len(right_side) else \" & \"\n",
    "    latex_table += f\"        {left} & {right} \\\\\\\\ \\n\"\n",
    "\n",
    "# Close table\n",
    "latex_table += \"\"\"\n",
    "        \\\\hline\n",
    "    \\\\end{tabular}\n",
    "    \\\\caption{Mapillary Vistas Classes}\n",
    "    \\\\label{tab:mapillary_classes}\n",
    "\\\\end{table}\n",
    "\"\"\"\n",
    "\n",
    "# Print LaTeX output\n",
    "print(latex_table)\n"
   ]
  },
  {
   "cell_type": "code",
   "execution_count": null,
   "metadata": {},
   "outputs": [],
   "source": []
  }
 ],
 "metadata": {
  "kernelspec": {
   "display_name": "studi",
   "language": "python",
   "name": "python3"
  },
  "language_info": {
   "codemirror_mode": {
    "name": "ipython",
    "version": 3
   },
   "file_extension": ".py",
   "mimetype": "text/x-python",
   "name": "python",
   "nbconvert_exporter": "python",
   "pygments_lexer": "ipython3",
<<<<<<< Updated upstream
   "version": "3.9.18"
=======
   "version": "undefined.undefined.undefined"
>>>>>>> Stashed changes
  }
 },
 "nbformat": 4,
 "nbformat_minor": 2
}
