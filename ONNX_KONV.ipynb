{
 "cells": [
  {
   "cell_type": "code",
   "execution_count": 1,
   "metadata": {},
   "outputs": [
    {
     "ename": "ModuleNotFoundError",
     "evalue": "No module named 'onnx'",
     "output_type": "error",
     "traceback": [
      "\u001b[0;31m---------------------------------------------------------------------------\u001b[0m",
      "\u001b[0;31mModuleNotFoundError\u001b[0m                       Traceback (most recent call last)",
      "Cell \u001b[0;32mIn[1], line 1\u001b[0m\n\u001b[0;32m----> 1\u001b[0m \u001b[38;5;28;01mfrom\u001b[39;00m\u001b[38;5;250m \u001b[39m\u001b[38;5;21;01mHelper\u001b[39;00m\u001b[38;5;21;01m.\u001b[39;00m\u001b[38;5;21;01monnx_konv\u001b[39;00m\u001b[38;5;250m \u001b[39m\u001b[38;5;28;01mimport\u001b[39;00m \u001b[38;5;241m*\u001b[39m \n\u001b[1;32m      2\u001b[0m \u001b[38;5;28;01mimport\u001b[39;00m\u001b[38;5;250m \u001b[39m\u001b[38;5;21;01mjson\u001b[39;00m\n",
      "File \u001b[0;32m~/PycharmProjects/Studienarbeit-CODE_Semantische_Segmentation/Helper/onnx_konv.py:4\u001b[0m\n\u001b[1;32m      2\u001b[0m \u001b[38;5;28;01mimport\u001b[39;00m\u001b[38;5;250m \u001b[39m\u001b[38;5;21;01mjson\u001b[39;00m\n\u001b[1;32m      3\u001b[0m \u001b[38;5;28;01mimport\u001b[39;00m\u001b[38;5;250m \u001b[39m\u001b[38;5;21;01mtorch\u001b[39;00m\n\u001b[0;32m----> 4\u001b[0m \u001b[38;5;28;01mimport\u001b[39;00m\u001b[38;5;250m \u001b[39m\u001b[38;5;21;01monnx\u001b[39;00m\n\u001b[1;32m      5\u001b[0m \u001b[38;5;28;01mimport\u001b[39;00m\u001b[38;5;250m \u001b[39m\u001b[38;5;21;01monnxruntime\u001b[39;00m\n\u001b[1;32m      6\u001b[0m \u001b[38;5;28;01mimport\u001b[39;00m\u001b[38;5;250m \u001b[39m\u001b[38;5;21;01mgc\u001b[39;00m\n",
      "\u001b[0;31mModuleNotFoundError\u001b[0m: No module named 'onnx'"
     ]
    }
   ],
   "source": [
    "from Helper.onnx_konv import * \n",
    "import json"
   ]
  },
  {
   "cell_type": "code",
   "execution_count": 2,
   "metadata": {},
   "outputs": [
    {
     "name": "stdout",
     "output_type": "stream",
     "text": [
      "Gefundene Modelle in JSON: ['lraspp_mobilenet_v3_large', 'fcn_resnet101', 'deeplabv3_resnet50', 'fcn_resnet50', 'deeplabv3_mobilenet_v3_large', 'deeplabv3_resnet101']\n"
     ]
    }
   ],
   "source": [
    "# Pfad zur JSON mit den Checkpoints\n",
    "best_checkpoints_json = \"/home/jan/studienarbeit/Studienarbeit-CODE_Semantische_Segmentation/FINAL_DATEN/best_checkpoints.json\"\n",
    "\n",
    "# 1) JSON laden\n",
    "with open(best_checkpoints_json, \"r\") as f:\n",
    "    best_checkpoints = json.load(f)\n",
    "\n",
    "print(\"Gefundene Modelle in JSON:\", list(best_checkpoints.keys()))\n",
    "\n",
    "calibration_data = \"/home/jan/studienarbeit/Studienarbeit-CODE_Semantische_Segmentation/CityscapesDaten/images/\""
   ]
  },
  {
   "cell_type": "code",
   "execution_count": 3,
   "metadata": {},
   "outputs": [],
   "source": [
    "# Beispiel: Funktion, die für ein einzelnes Modell den gesamten Konvertierungs- und Testablauf übernimmt.\n",
    "def convert_and_test_model(checkpoint_path, model_name, conversion_types, calibration_data_path):\n",
    "    \"\"\"\n",
    "    Führt für das angegebene Modell (über den Checkpoint) die gewünschten Konvertierungen durch\n",
    "    und testet anschließend alle erfolgreich konvertierten Modelle.\n",
    "    \n",
    "    :param checkpoint_path: Pfad zum Checkpoint (pickle-Datei)\n",
    "    :param model_name: Name des Modells\n",
    "    :param conversion_types: Liste der gewünschten Konvertierungen, z. B.\n",
    "                             [\"fp32\", \"fp16\", \"int8_dynamic\", \"int8_calibrated\"]\n",
    "    :param calibration_data_path: Pfad zu den Kalibrierungsbildern (für INT8)\n",
    "    \"\"\"\n",
    "    print(f\"\\n=== Starte Konvertierung für Modell: {model_name} ===\")\n",
    "    \n",
    "    # Erstelle einen Converter für das aktuelle Modell\n",
    "    converter = ONNXModelConverter(\n",
    "        checkpoint_path=checkpoint_path,\n",
    "        model_name=model_name,\n",
    "        width=2048,\n",
    "        height=1024,\n",
    "        input_shape=(1, 3, 520, 520),\n",
    "        dynamic_batch=True,\n",
    "        opset_version=13,\n",
    "        output_dir=\"./onnx_models\",\n",
    "        skip_local_load=True\n",
    "    )\n",
    "    \n",
    "    # Modell laden\n",
    "    try:\n",
    "        converter.load_model()\n",
    "    except Exception as e:\n",
    "        print(f\"[ERROR] Laden des Modells {model_name} fehlgeschlagen: {e}\")\n",
    "        return  # Abbruch, falls Laden fehlschlägt\n",
    "    \n",
    "    # Hier speichern wir die Pfade der erzeugten Modelle, um sie später zu testen\n",
    "    converted_paths = {}\n",
    "\n",
    "    # FP32-Export (wird für die meisten Konvertierungen benötigt)\n",
    "    if \"fp32\" in conversion_types or any(conv in conversion_types for conv in [\"fp16\", \"int8_dynamic\", \"int8_calibrated\"]):\n",
    "        try:\n",
    "            fp32_path = converter.export_fp32()\n",
    "            converted_paths[\"fp32\"] = fp32_path\n",
    "        except Exception as e:\n",
    "            print(f\"[ERROR] FP32-Export von {model_name} fehlgeschlagen: {e}\")\n",
    "            # Falls der FP32-Export fehlschlägt, können auch keine weiteren Konvertierungen durchgeführt werden\n",
    "            return\n",
    "\n",
    "    # FP16-Konvertierung (sofern erwünscht und verfügbar)\n",
    "    if \"fp16\" in conversion_types:\n",
    "        if HAS_FLOAT16_CONVERTER:\n",
    "            try:\n",
    "                fp16_path = converter.convert_fp16(fp32_path)\n",
    "                converted_paths[\"fp16\"] = fp16_path\n",
    "            except Exception as e:\n",
    "                print(f\"[WARN] FP16-Konvertierung von {model_name} fehlgeschlagen: {e}\")\n",
    "        else:\n",
    "            print(\"[WARN] FP16-Konvertierung nicht verfügbar (float16_converter fehlt).\")\n",
    "\n",
    "    # Dynamische INT8-Quantisierung\n",
    "    if \"int8_dynamic\" in conversion_types:\n",
    "        try:\n",
    "            int8_dyn_path = converter.quantize_int8_dynamic(fp32_path)\n",
    "            converted_paths[\"int8_dynamic\"] = int8_dyn_path\n",
    "        except Exception as e:\n",
    "            print(f\"[ERROR] Dynamische INT8-Quantisierung von {model_name} fehlgeschlagen: {e}\")\n",
    "\n",
    "    # Kalibrierte INT8-Quantisierung\n",
    "    if \"int8_calibrated\" in conversion_types:\n",
    "        try:\n",
    "            int8_cal_path = converter.quantize_int8_calibrated(\n",
    "                fp32_onnx_path=fp32_path,\n",
    "                calibration_data_path=calibration_data_path,\n",
    "                input_tensor_name=\"input\",\n",
    "                max_samples=300\n",
    "            )\n",
    "            converted_paths[\"int8_calibrated\"] = int8_cal_path\n",
    "        except Exception as e:\n",
    "            print(f\"[ERROR] Kalibrierte INT8-Quantisierung von {model_name} fehlgeschlagen: {e}\")\n",
    "\n",
    "    # Teste alle erfolgreich konvertierten Modelle\n",
    "    print(f\"\\n>>> Teste konvertierte Modelle für {model_name}:\")\n",
    "    for conv, path in converted_paths.items():\n",
    "        try:\n",
    "            print(f\"{conv.upper()} Modell:\")\n",
    "            converter.test_model(path)\n",
    "        except Exception as e:\n",
    "            print(f\"[ERROR] Testen des {conv.upper()} Modells von {model_name} fehlgeschlagen: {e}\")\n",
    "\n",
    "    print(f\"=== Konvertierung für {model_name} abgeschlossen ===\\n\")\n",
    "\n",
    "\n",
    "# # Beispielhafter Aufruf für alle Modelle (best_checkpoints und calibration_data_path müssen definiert sein):\n",
    "# for model_name, checkpoint_path in best_checkpoints.items():\n",
    "#     # Hier legst du fest, welche Konvertierung(en) durchgeführt werden sollen.\n",
    "#     # Beispiel: Nur FP32 und FP16\n",
    "#     conversions_to_run = [\"fp32\", \"fp16\"]\n",
    "#     # Alternativ kannst du z. B. auch alle vier Varianten angeben:\n",
    "#     # conversions_to_run = [\"fp32\", \"fp16\", \"int8_dynamic\", \"int8_calibrated\"]\n",
    "    \n",
    "#     convert_and_test_model(checkpoint_path, model_name, conversions_to_run, calibration_data_path)\n"
   ]
  },
  {
   "cell_type": "code",
   "execution_count": 4,
   "metadata": {},
   "outputs": [
    {
     "name": "stdout",
     "output_type": "stream",
     "text": [
      "\n",
      "=== Starte Konvertierung für Modell: deeplabv3_resnet101 ===\n",
      "Initialisierung abgeschlossen. Gerät: cuda. Ausgabeordner: ./onnx_models\n"
     ]
    },
    {
     "name": "stderr",
     "output_type": "stream",
     "text": [
      "2025-02-03 19:47:53.937093: I tensorflow/core/platform/cpu_feature_guard.cc:210] This TensorFlow binary is optimized to use available CPU instructions in performance-critical operations.\n",
      "To enable the following instructions: AVX2 FMA, in other operations, rebuild TensorFlow with the appropriate compiler flags.\n",
      "2025-02-03 19:47:55.273599: W tensorflow/compiler/tf2tensorrt/utils/py_utils.cc:38] TF-TRT Warning: Could not find TensorRT\n"
     ]
    },
    {
     "name": "stdout",
     "output_type": "stream",
     "text": [
      "Using CUDA GPU\n",
      "Model loaded: deeplabv3_resnet101 | Device: cuda \n",
      "Skipping local .pth load logic (likely using external Ray checkpoint).\n",
      "Modell deeplabv3_resnet101 erfolgreich geladen und auf cuda platziert.\n",
      "FP32 ONNX-Modell exportiert: ./onnx_models/deeplabv3_resnet101_fp32.onnx\n",
      "Kalibrierungs-Dataloader: Nutze 300 Bilder. CUDA: True\n",
      "Starte kalibrierte INT8-Quantisierung: ./onnx_models/deeplabv3_resnet101_fp32.onnx\n"
     ]
    },
    {
     "name": "stderr",
     "output_type": "stream",
     "text": [
      "WARNING:root:Please consider to run pre-processing before quantization. Refer to example: https://github.com/microsoft/onnxruntime-inference-examples/blob/main/quantization/image_classification/cpu/ReadMe.md \n",
      "WARNING:root:Please consider pre-processing before quantization. See https://github.com/microsoft/onnxruntime-inference-examples/blob/main/quantization/image_classification/cpu/ReadMe.md \n"
     ]
    },
    {
     "name": "stdout",
     "output_type": "stream",
     "text": [
      "Kalibrierte INT8-Quantisierung abgeschlossen: ./onnx_models/deeplabv3_resnet101_fp32_int8_calibrated.onnx\n",
      "\n",
      ">>> Teste konvertierte Modelle für deeplabv3_resnet101:\n",
      "FP32 Modell:\n",
      "Teste Modell ./onnx_models/deeplabv3_resnet101_fp32.onnx mit Eingabeform (1, 3, 520, 520)\n",
      "Inferenz erfolgreich. Ausgabeformen:\n",
      " - Output 0: shape = (1, 20, 520, 520)\n",
      "INT8_CALIBRATED Modell:\n",
      "Teste Modell ./onnx_models/deeplabv3_resnet101_fp32_int8_calibrated.onnx mit Eingabeform (1, 3, 520, 520)\n",
      "Inferenz erfolgreich. Ausgabeformen:\n",
      " - Output 0: shape = (1, 20, 520, 520)\n",
      "=== Konvertierung für deeplabv3_resnet101 abgeschlossen ===\n",
      "\n",
      "\n",
      "=== Starte Konvertierung für Modell: lraspp_mobilenet_v3_large ===\n",
      "Initialisierung abgeschlossen. Gerät: cuda. Ausgabeordner: ./onnx_models\n",
      "Using CUDA GPU\n",
      "Model loaded: lraspp_mobilenet_v3_large | Device: cuda \n",
      "Skipping local .pth load logic (likely using external Ray checkpoint).\n",
      "Modell lraspp_mobilenet_v3_large erfolgreich geladen und auf cuda platziert.\n"
     ]
    },
    {
     "name": "stderr",
     "output_type": "stream",
     "text": [
      "WARNING:root:Please consider to run pre-processing before quantization. Refer to example: https://github.com/microsoft/onnxruntime-inference-examples/blob/main/quantization/image_classification/cpu/ReadMe.md \n"
     ]
    },
    {
     "name": "stdout",
     "output_type": "stream",
     "text": [
      "FP32 ONNX-Modell exportiert: ./onnx_models/lraspp_mobilenet_v3_large_fp32.onnx\n",
      "Kalibrierungs-Dataloader: Nutze 300 Bilder. CUDA: True\n",
      "Starte kalibrierte INT8-Quantisierung: ./onnx_models/lraspp_mobilenet_v3_large_fp32.onnx\n"
     ]
    },
    {
     "name": "stderr",
     "output_type": "stream",
     "text": [
      "WARNING:root:Please consider pre-processing before quantization. See https://github.com/microsoft/onnxruntime-inference-examples/blob/main/quantization/image_classification/cpu/ReadMe.md \n"
     ]
    },
    {
     "name": "stdout",
     "output_type": "stream",
     "text": [
      "Kalibrierte INT8-Quantisierung abgeschlossen: ./onnx_models/lraspp_mobilenet_v3_large_fp32_int8_calibrated.onnx\n",
      "\n",
      ">>> Teste konvertierte Modelle für lraspp_mobilenet_v3_large:\n",
      "FP32 Modell:\n",
      "Teste Modell ./onnx_models/lraspp_mobilenet_v3_large_fp32.onnx mit Eingabeform (1, 3, 520, 520)\n",
      "Inferenz erfolgreich. Ausgabeformen:\n",
      " - Output 0: shape = (1, 20, 520, 520)\n",
      "INT8_CALIBRATED Modell:\n",
      "Teste Modell ./onnx_models/lraspp_mobilenet_v3_large_fp32_int8_calibrated.onnx mit Eingabeform (1, 3, 520, 520)\n",
      "Inferenz erfolgreich. Ausgabeformen:\n",
      " - Output 0: shape = (1, 20, 520, 520)\n",
      "=== Konvertierung für lraspp_mobilenet_v3_large abgeschlossen ===\n",
      "\n"
     ]
    }
   ],
   "source": [
    "convert_and_test_model(best_checkpoints[\"deeplabv3_resnet101\"],\n",
    "                       \"deeplabv3_resnet101\",\n",
    "                       [\"int8_calibrated\"],\n",
    "                       calibration_data)\n",
    "\n",
    "convert_and_test_model(best_checkpoints[\"lraspp_mobilenet_v3_large\"],\n",
    "                       \"lraspp_mobilenet_v3_large\",\n",
    "                       [\"int8_calibrated\"],\n",
    "                       calibration_data)"
   ]
  },
  {
   "cell_type": "code",
   "execution_count": null,
   "metadata": {},
   "outputs": [],
   "source": []
  }
 ],
 "metadata": {
  "kernelspec": {
   "display_name": "studi",
   "language": "python",
   "name": "python3"
  },
  "language_info": {
   "codemirror_mode": {
    "name": "ipython",
    "version": 3
   },
   "file_extension": ".py",
   "mimetype": "text/x-python",
   "name": "python",
   "nbconvert_exporter": "python",
   "pygments_lexer": "ipython3",
   "version": "3.9.18"
  }
 },
 "nbformat": 4,
 "nbformat_minor": 2
}
