{
 "cells": [
  {
   "cell_type": "code",
   "execution_count": null,
   "metadata": {},
   "outputs": [],
   "source": [
    "import os\n",
    "import json\n",
    "import requests\n",
    "\n",
    "\n",
    "# 🔑 Mapillary Client Token (ersetzen mit deinem tatsächlichen Token)\n",
    "CLIENT_TOKEN = \"MLY|29314393881493401|77fac77b36411e311bb61be565f477c8\"\n",
    "\n",
    "# 🌍 API-URL Vorlage (für öffentliche Bilder)\n",
    "API_URL = \"https://graph.mapillary.com/{}/?fields=id,computed_geometry&access_token={}\"\n",
    "\n",
    "# Verzeichnisse mit den Bildern (anpassen!)\n",
    "TRAIN_IMAGE_DIR = \"Mapilarry_Vistas/training/images\"\n",
    "VAL_IMAGE_DIR = \"Mapilarry_Vistas/validation/images\"\n",
    "\n",
    "# Extrahiere alle Bild-IDs aus den jeweiligen Ordnern\n",
    "train_image_ids = [f.split(\".\")[0] for f in os.listdir(TRAIN_IMAGE_DIR) if f.endswith((\".jpg\", \".png\"))]\n",
    "val_image_ids = [f.split(\".\")[0] for f in os.listdir(VAL_IMAGE_DIR) if f.endswith((\".jpg\", \".png\"))]\n",
    "\n",
    "print(f\"Trainingsdaten: {len(train_image_ids)} Bilder\")\n",
    "print(f\"Validierungsdaten: {len(val_image_ids)} Bilder\")\n",
    "\n",
    "print(f'first 10 train image ids: {train_image_ids[:10]}')"
   ]
  },
  {
   "cell_type": "code",
   "execution_count": 11,
   "metadata": {},
   "outputs": [
    {
     "name": "stdout",
     "output_type": "stream",
     "text": [
      "📊 Found 20000 potential image IDs from filenames.\n",
      "🔍 Example IDs: ['kxeJLBYetxYbi2CxoaBJbA', 'HRcrjFo2dA83jc4oDfD1Lg', 'BbVKHo3OwGoaM6KS334XCQ', 'imvX2hdU7bSKLz6ilASfOg', 'K0-s9zGRipmd7NOFzJ1bxA']\n"
     ]
    }
   ],
   "source": [
    "import os\n",
    "\n",
    "# Paths to the downloaded images\n",
    "TRAIN_IMAGE_DIR = \"/home/jan/studienarbeit/Studienarbeit-CODE_Semantische_Segmentation/Mapilarry_Vistas/training/images\"\n",
    "VAL_IMAGE_DIR = \"/home/jan/studienarbeit/Studienarbeit-CODE_Semantische_Segmentation/Mapilarry_Vistas/validation/images\"\n",
    "\n",
    "# Extract potential image IDs from filenames\n",
    "train_image_ids = [f.split(\".\")[0] for f in os.listdir(TRAIN_IMAGE_DIR) if f.endswith((\".jpg\", \".png\"))]\n",
    "val_image_ids = [f.split(\".\")[0] for f in os.listdir(VAL_IMAGE_DIR) if f.endswith((\".jpg\", \".png\"))]\n",
    "\n",
    "# Combine all extracted filenames\n",
    "all_image_ids = train_image_ids + val_image_ids\n",
    "\n",
    "print(f\"📊 Found {len(all_image_ids)} potential image IDs from filenames.\")\n",
    "print(f\"🔍 Example IDs: {all_image_ids[:5]}\")  # Show first 5 IDs\n"
   ]
  },
  {
   "cell_type": "code",
   "execution_count": 14,
   "metadata": {},
   "outputs": [
    {
     "name": "stdout",
     "output_type": "stream",
     "text": [
      "📂 Found metadata files: ['config_v1.2.json', 'config_v2.0.json']\n"
     ]
    }
   ],
   "source": [
    "import os\n",
    "\n",
    "# Path to Mapillary Vistas metadata files\n",
    "metadata_dir = \"Mapillary_Vistas/\"\n",
    "metadata_files = [f for f in os.listdir(metadata_dir) if f.endswith(\".json\")]\n",
    "\n",
    "print(\"📂 Found metadata files:\", metadata_files)\n"
   ]
  },
  {
   "cell_type": "code",
   "execution_count": 15,
   "metadata": {},
   "outputs": [
    {
     "name": "stdout",
     "output_type": "stream",
     "text": [
      "{\n",
      "    \"labels\": [\n",
      "        {\n",
      "            \"name\": \"animal--bird\",\n",
      "            \"readable\": \"Bird\",\n",
      "            \"instances\": true,\n",
      "            \"evaluate\": true,\n",
      "            \"color\": [\n",
      "                165,\n",
      "                42,\n",
      "                42\n",
      "            ]\n",
      "        },\n",
      "        {\n",
      "            \"name\": \"animal--ground-animal\",\n",
      "            \"readable\": \"Ground Animal\",\n",
      "            \"instances\": true,\n",
      "            \"evaluate\": true,\n",
      "            \"color\": [\n",
      "                0,\n",
      "                192,\n",
      "               \n"
     ]
    }
   ],
   "source": [
    "import json\n",
    "\n",
    "# Load metadata\n",
    "metadata_path = \"Mapillary_Vistas/config_v2.0.json\"  # Adjust based on available files\n",
    "\n",
    "with open(metadata_path, \"r\") as f:\n",
    "    metadata = json.load(f)\n",
    "\n",
    "# Print sample data to check structure\n",
    "print(json.dumps(metadata, indent=4)[:500])  # Show first 500 characters\n"
   ]
  },
  {
   "cell_type": "code",
   "execution_count": null,
   "metadata": {},
   "outputs": [],
   "source": []
  }
 ],
 "metadata": {
  "kernelspec": {
   "display_name": "map",
   "language": "python",
   "name": "python3"
  },
  "language_info": {
   "codemirror_mode": {
    "name": "ipython",
    "version": 3
   },
   "file_extension": ".py",
   "mimetype": "text/x-python",
   "name": "python",
   "nbconvert_exporter": "python",
   "pygments_lexer": "ipython3",
   "version": "3.8.20"
  }
 },
 "nbformat": 4,
 "nbformat_minor": 2
}
