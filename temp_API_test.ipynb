{
 "cells": [
  {
   "cell_type": "code",
   "execution_count": 1,
   "metadata": {},
   "outputs": [
    {
     "name": "stdout",
     "output_type": "stream",
     "text": [
      "📁 Speicherordner erstellt: Mapillary_API/images & Mapillary_API/labels\n"
     ]
    }
   ],
   "source": [
    "import os\n",
    "\n",
    "\n",
    "# 🔑 Mapillary Client Token (ersetzen mit deinem tatsächlichen Token)\n",
    "CLIENT_TOKEN = \"MLY|29314393881493401|77fac77b36411e311bb61be565f477c8\"\n",
    "\n",
    "\n",
    "# Hauptordner für das Dataset\n",
    "DATASET_DIR = \"Mapillary_API\"\n",
    "IMAGES_DIR = os.path.join(DATASET_DIR, \"images\")\n",
    "LABELS_DIR = os.path.join(DATASET_DIR, \"labels\")\n",
    "\n",
    "# Ordner erstellen, falls nicht vorhanden\n",
    "os.makedirs(IMAGES_DIR, exist_ok=True)\n",
    "os.makedirs(LABELS_DIR, exist_ok=True)\n",
    "\n",
    "print(f\"📁 Speicherordner erstellt: {IMAGES_DIR} & {LABELS_DIR}\")\n"
   ]
  },
  {
   "cell_type": "code",
   "execution_count": 2,
   "metadata": {},
   "outputs": [
    {
     "name": "stdout",
     "output_type": "stream",
     "text": [
      "📊 1000 Bild-IDs geladen.\n",
      "🔍 Beispielhafte IDs: ['3518346661714687', '3986216288126553', '1442297476441027', '3654742511452668', '1444255782906846']\n"
     ]
    }
   ],
   "source": [
    "import json\n",
    "\n",
    "# Lade die Bild-IDs aus der JSON-Datei\n",
    "with open(os.path.join(DATASET_DIR, \"mapillary_europe_all_image_ids.json\"), \"r\") as f:\n",
    "    image_ids = json.load(f)\n",
    "\n",
    "print(f\"📊 {len(image_ids)} Bild-IDs geladen.\")\n",
    "print(f\"🔍 Beispielhafte IDs: {image_ids[:5]}\")  # Zeige die ersten 5 IDs zur Kontrolle\n"
   ]
  },
  {
   "cell_type": "code",
   "execution_count": 3,
   "metadata": {},
   "outputs": [
    {
     "name": "stderr",
     "output_type": "stream",
     "text": [
      "Lade Bilder & Labels:  10%|█         | 1/10 [00:00<00:03,  2.58it/s]"
     ]
    },
    {
     "name": "stdout",
     "output_type": "stream",
     "text": [
      "⚠️ Bild 3518346661714687 konnte nicht geladen werden.\n",
      "⚠️ Label 3518346661714687 konnte nicht geladen werden.\n"
     ]
    },
    {
     "name": "stderr",
     "output_type": "stream",
     "text": [
      "Lade Bilder & Labels:  20%|██        | 2/10 [00:00<00:02,  2.67it/s]"
     ]
    },
    {
     "name": "stdout",
     "output_type": "stream",
     "text": [
      "⚠️ Bild 3986216288126553 konnte nicht geladen werden.\n",
      "⚠️ Label 3986216288126553 konnte nicht geladen werden.\n",
      "⚠️ Bild 1442297476441027 konnte nicht geladen werden.\n"
     ]
    },
    {
     "name": "stderr",
     "output_type": "stream",
     "text": [
      "Lade Bilder & Labels:  30%|███       | 3/10 [00:01<00:03,  2.10it/s]"
     ]
    },
    {
     "name": "stdout",
     "output_type": "stream",
     "text": [
      "⚠️ Label 1442297476441027 konnte nicht geladen werden.\n"
     ]
    },
    {
     "name": "stderr",
     "output_type": "stream",
     "text": [
      "Lade Bilder & Labels:  40%|████      | 4/10 [00:01<00:02,  2.25it/s]"
     ]
    },
    {
     "name": "stdout",
     "output_type": "stream",
     "text": [
      "⚠️ Bild 3654742511452668 konnte nicht geladen werden.\n",
      "⚠️ Label 3654742511452668 konnte nicht geladen werden.\n"
     ]
    },
    {
     "name": "stderr",
     "output_type": "stream",
     "text": [
      "Lade Bilder & Labels:  50%|█████     | 5/10 [00:02<00:02,  2.36it/s]"
     ]
    },
    {
     "name": "stdout",
     "output_type": "stream",
     "text": [
      "⚠️ Bild 1444255782906846 konnte nicht geladen werden.\n",
      "⚠️ Label 1444255782906846 konnte nicht geladen werden.\n"
     ]
    },
    {
     "name": "stderr",
     "output_type": "stream",
     "text": [
      "Lade Bilder & Labels:  60%|██████    | 6/10 [00:02<00:01,  2.32it/s]"
     ]
    },
    {
     "name": "stdout",
     "output_type": "stream",
     "text": [
      "⚠️ Bild 3028200633985845 konnte nicht geladen werden.\n",
      "⚠️ Label 3028200633985845 konnte nicht geladen werden.\n",
      "⚠️ Bild 3057478834488858 konnte nicht geladen werden.\n"
     ]
    },
    {
     "name": "stderr",
     "output_type": "stream",
     "text": [
      "Lade Bilder & Labels:  70%|███████   | 7/10 [00:03<00:01,  2.20it/s]"
     ]
    },
    {
     "name": "stdout",
     "output_type": "stream",
     "text": [
      "⚠️ Label 3057478834488858 konnte nicht geladen werden.\n",
      "⚠️ Bild 5785520631523151 konnte nicht geladen werden.\n"
     ]
    },
    {
     "name": "stderr",
     "output_type": "stream",
     "text": [
      "Lade Bilder & Labels:  80%|████████  | 8/10 [00:03<00:00,  2.17it/s]"
     ]
    },
    {
     "name": "stdout",
     "output_type": "stream",
     "text": [
      "⚠️ Label 5785520631523151 konnte nicht geladen werden.\n",
      "⚠️ Bild 7910413219070371 konnte nicht geladen werden.\n"
     ]
    },
    {
     "name": "stderr",
     "output_type": "stream",
     "text": [
      "Lade Bilder & Labels:  90%|█████████ | 9/10 [00:03<00:00,  2.37it/s]"
     ]
    },
    {
     "name": "stdout",
     "output_type": "stream",
     "text": [
      "⚠️ Label 7910413219070371 konnte nicht geladen werden.\n",
      "⚠️ Bild 1438085546576473 konnte nicht geladen werden.\n"
     ]
    },
    {
     "name": "stderr",
     "output_type": "stream",
     "text": [
      "Lade Bilder & Labels: 100%|██████████| 10/10 [00:04<00:00,  2.37it/s]"
     ]
    },
    {
     "name": "stdout",
     "output_type": "stream",
     "text": [
      "⚠️ Label 1438085546576473 konnte nicht geladen werden.\n"
     ]
    },
    {
     "name": "stderr",
     "output_type": "stream",
     "text": [
      "\n"
     ]
    }
   ],
   "source": [
    "import requests\n",
    "from tqdm import tqdm\n",
    "from PIL import Image\n",
    "from io import BytesIO\n",
    "\n",
    "# 🔑 Mapillary API Token\n",
    "API_TOKEN = CLIENT_TOKEN  # Wird von oben übernommen\n",
    "\n",
    "# API-URLs für Bilder & Labels\n",
    "IMAGE_URL = \"https://graph.mapillary.com/{}/thumbnails?access_token={}\"\n",
    "LABEL_URL = \"https://graph.mapillary.com/{}/segmentation?access_token={}\"\n",
    "\n",
    "# Max Anzahl Bilder für Test (entferne `[:10]`, um ALLE zu laden)\n",
    "MAX_IMAGES = 10\n",
    "image_ids = image_ids[:MAX_IMAGES]\n",
    "\n",
    "# 🔄 Lade die Bilder & Labels\n",
    "for image_id in tqdm(image_ids, desc=\"Lade Bilder & Labels\"):\n",
    "    try:\n",
    "        # 📥 Lade das Bild\n",
    "        image_response = requests.get(IMAGE_URL.format(image_id, API_TOKEN))\n",
    "        if image_response.status_code == 200:\n",
    "            img = Image.open(BytesIO(image_response.content))\n",
    "            img.save(os.path.join(IMAGES_DIR, f\"{image_id}.jpg\"))\n",
    "        else:\n",
    "            print(f\"⚠️ Bild {image_id} konnte nicht geladen werden.\")\n",
    "\n",
    "        # 📥 Lade die gelabelte Maske\n",
    "        label_response = requests.get(LABEL_URL.format(image_id, API_TOKEN))\n",
    "        if label_response.status_code == 200:\n",
    "            mask = Image.open(BytesIO(label_response.content))\n",
    "            mask.save(os.path.join(LABELS_DIR, f\"{image_id}.png\"))\n",
    "        else:\n",
    "            print(f\"⚠️ Label {image_id} konnte nicht geladen werden.\")\n",
    "\n",
    "    except Exception as e:\n",
    "        print(f\"❌ Fehler bei {image_id}: {e}\")\n"
   ]
  },
  {
   "cell_type": "code",
   "execution_count": 4,
   "metadata": {},
   "outputs": [
    {
     "name": "stdout",
     "output_type": "stream",
     "text": [
      "❌ Fehler: 500 - {\"error\":{\"message\":\"Tried accessing nonexisting field (thumbnails) on node type (ImageXDB)\",\"type\":\"MLYApiException\",\"code\":100,\"fbtrace_id\":\"AV7x0hnfR1990xP7Z9TucBC\"}}\n"
     ]
    }
   ],
   "source": [
    "import requests\n",
    "\n",
    "# 🔑 Mapillary API Token\n",
    "API_TOKEN = CLIENT_TOKEN\n",
    "TEST_IMAGE_ID = \"3518346661714687\"  # Eine existierende Bild-ID testen\n",
    "\n",
    "# 📸 API-URL für das Bild (Thumbnails-Endpunkt)\n",
    "IMAGE_URL = f\"https://graph.mapillary.com/{TEST_IMAGE_ID}/thumbnails?access_token={API_TOKEN}\"\n",
    "response = requests.get(IMAGE_URL)\n",
    "\n",
    "if response.status_code == 200:\n",
    "    print(\"✅ Bild erfolgreich gefunden!\")\n",
    "    print(response.json())  # Ausgabe des JSON-Responses\n",
    "else:\n",
    "    print(f\"❌ Fehler: {response.status_code} - {response.text}\")\n"
   ]
  },
  {
   "cell_type": "code",
   "execution_count": 5,
   "metadata": {},
   "outputs": [
    {
     "name": "stdout",
     "output_type": "stream",
     "text": [
      "❌ Fehler: 500 - {\"error\":{\"message\":\"Tried accessing nonexisting field (segmentation) on node type (ImageXDB)\",\"type\":\"MLYApiException\",\"code\":100,\"fbtrace_id\":\"AD9buJyiK28epeBJzQG0zQI\"}}\n"
     ]
    }
   ],
   "source": [
    "# 🏷️ API-URL für Segmentation Labels\n",
    "LABEL_URL = f\"https://graph.mapillary.com/{TEST_IMAGE_ID}/segmentation?access_token={API_TOKEN}\"\n",
    "response = requests.get(LABEL_URL)\n",
    "\n",
    "if response.status_code == 200:\n",
    "    print(\"✅ Segmentation Label erfolgreich gefunden!\")\n",
    "    print(response.json())  # Ausgabe des JSON-Responses\n",
    "else:\n",
    "    print(f\"❌ Fehler: {response.status_code} - {response.text}\")\n"
   ]
  },
  {
   "cell_type": "code",
   "execution_count": 6,
   "metadata": {},
   "outputs": [
    {
     "name": "stdout",
     "output_type": "stream",
     "text": [
      "📸 Bild-Download-Link: https://scontent-fra5-2.xx.fbcdn.net/m1/v/t6/An8GTmoVxUfRs5OilMEj-zDaN_-85TpkDJRyHdRp-cbPShCkMnPtfe4R66bdcOVn4Lc5Tcjkc0AL_bNJz9iYBcaicUtlhikzzVuY0CgPwa_1vfYbcBlfZnNA9DTQ3u457tp1W09BpP7-dvGgc7O6lg?_nc_oc=AdiT-3p8vi5Wq01qsdwehr5yyxJg9oV_QJycYfnGsvE7m9HEte7aJIaS8ghSVhO074c&ccb=10-5&oh=00_AYB-6Bv5o-KSX07zdk34N-p1Z1k2uMjOIZZRH0HLgjeYIQ&oe=67D2DF61&_nc_sid=201bca\n"
     ]
    }
   ],
   "source": [
    "API_IMAGE_INFO = f\"https://graph.mapillary.com/{TEST_IMAGE_ID}?fields=id,thumb_1024_url,thumb_original_url&access_token={API_TOKEN}\"\n",
    "response = requests.get(API_IMAGE_INFO)\n",
    "\n",
    "if response.status_code == 200:\n",
    "    data = response.json()\n",
    "    print(\"📸 Bild-Download-Link:\", data.get(\"thumb_original_url\", \"Kein Originalbild gefunden\"))\n",
    "else:\n",
    "    print(f\"❌ Fehler: {response.status_code} - {response.text}\")\n",
    "\n"
   ]
  },
  {
   "cell_type": "code",
   "execution_count": 8,
   "metadata": {},
   "outputs": [
    {
     "name": "stderr",
     "output_type": "stream",
     "text": [
      "Lade Bilder & Labels:  10%|█         | 1/10 [00:00<00:01,  5.33it/s]"
     ]
    },
    {
     "name": "stdout",
     "output_type": "stream",
     "text": [
      "❌ API-Fehler für Bild 3518346661714687: 500\n"
     ]
    },
    {
     "name": "stderr",
     "output_type": "stream",
     "text": [
      "Lade Bilder & Labels:  30%|███       | 3/10 [00:01<00:02,  2.78it/s]"
     ]
    },
    {
     "name": "stdout",
     "output_type": "stream",
     "text": [
      "❌ API-Fehler für Bild 3986216288126553: 500\n",
      "❌ API-Fehler für Bild 1442297476441027: 500\n"
     ]
    },
    {
     "name": "stderr",
     "output_type": "stream",
     "text": [
      "Lade Bilder & Labels:  50%|█████     | 5/10 [00:01<00:01,  3.98it/s]"
     ]
    },
    {
     "name": "stdout",
     "output_type": "stream",
     "text": [
      "❌ API-Fehler für Bild 3654742511452668: 500\n",
      "❌ API-Fehler für Bild 1444255782906846: 500\n"
     ]
    },
    {
     "name": "stderr",
     "output_type": "stream",
     "text": [
      "Lade Bilder & Labels:  70%|███████   | 7/10 [00:01<00:00,  4.56it/s]"
     ]
    },
    {
     "name": "stdout",
     "output_type": "stream",
     "text": [
      "❌ API-Fehler für Bild 3028200633985845: 500\n",
      "❌ API-Fehler für Bild 3057478834488858: 500\n"
     ]
    },
    {
     "name": "stderr",
     "output_type": "stream",
     "text": [
      "Lade Bilder & Labels:  90%|█████████ | 9/10 [00:02<00:00,  5.07it/s]"
     ]
    },
    {
     "name": "stdout",
     "output_type": "stream",
     "text": [
      "❌ API-Fehler für Bild 5785520631523151: 500\n",
      "❌ API-Fehler für Bild 7910413219070371: 500\n"
     ]
    },
    {
     "name": "stderr",
     "output_type": "stream",
     "text": [
      "Lade Bilder & Labels: 100%|██████████| 10/10 [00:02<00:00,  4.17it/s]"
     ]
    },
    {
     "name": "stdout",
     "output_type": "stream",
     "text": [
      "❌ API-Fehler für Bild 1438085546576473: 500\n"
     ]
    },
    {
     "name": "stderr",
     "output_type": "stream",
     "text": [
      "\n"
     ]
    }
   ],
   "source": [
    "import os\n",
    "import json\n",
    "import requests\n",
    "from tqdm import tqdm\n",
    "from PIL import Image\n",
    "from io import BytesIO\n",
    "\n",
    "# 📂 Verzeichnisse erstellen\n",
    "DATASET_DIR = \"Mapillary_API\"\n",
    "IMAGES_DIR = os.path.join(DATASET_DIR, \"images\")\n",
    "LABELS_DIR = os.path.join(DATASET_DIR, \"labels\")\n",
    "\n",
    "os.makedirs(IMAGES_DIR, exist_ok=True)\n",
    "os.makedirs(LABELS_DIR, exist_ok=True)\n",
    "\n",
    "# 🔄 Lade die gespeicherten Image-IDs\n",
    "with open(os.path.join(DATASET_DIR, \"mapillary_europe_all_image_ids.json\"), \"r\") as f:\n",
    "    image_ids = json.load(f)\n",
    "\n",
    "# Max Anzahl Bilder für Test (entferne `[:10]`, um ALLE zu laden)\n",
    "MAX_IMAGES = 10\n",
    "image_ids = image_ids[:MAX_IMAGES]\n",
    "\n",
    "for image_id in tqdm(image_ids, desc=\"Lade Bilder & Labels\"):\n",
    "    try:\n",
    "        # 📥 API-Abfrage für Bild-Informationen\n",
    "        API_IMAGE_INFO = f\"https://graph.mapillary.com/{image_id}?fields=id,thumb_original_url,segmentation_url&access_token={CLIENT_TOKEN}\"\n",
    "        response = requests.get(API_IMAGE_INFO)\n",
    "\n",
    "        if response.status_code == 200:\n",
    "            data = response.json()\n",
    "\n",
    "            # 📥 Lade & speichere das Bild\n",
    "            image_url = data.get(\"thumb_original_url\")\n",
    "            if image_url:\n",
    "                img_response = requests.get(image_url)\n",
    "                if img_response.status_code == 200:\n",
    "                    img = Image.open(BytesIO(img_response.content))\n",
    "                    img.save(os.path.join(IMAGES_DIR, f\"{image_id}.jpg\"))\n",
    "                else:\n",
    "                    print(f\"⚠️ Fehler beim Laden von Bild {image_id}\")\n",
    "\n",
    "            # 📥 Lade & speichere das Segmentation Label\n",
    "            label_url = data.get(\"segmentation_url\")\n",
    "            if label_url:\n",
    "                label_response = requests.get(label_url)\n",
    "                if label_response.status_code == 200:\n",
    "                    label_img = Image.open(BytesIO(label_response.content))\n",
    "                    label_img.save(os.path.join(LABELS_DIR, f\"{image_id}.png\"))\n",
    "                else:\n",
    "                    print(f\"⚠️ Fehler beim Laden von Label {image_id}\")\n",
    "            else:\n",
    "                print(f\"⚠️ Kein Segmentation Label für Bild {image_id}\")\n",
    "\n",
    "        else:\n",
    "            print(f\"❌ API-Fehler für Bild {image_id}: {response.status_code}\")\n",
    "\n",
    "    except Exception as e:\n",
    "        print(f\"❌ Fehler bei {image_id}: {e}\")\n"
   ]
  },
  {
   "cell_type": "code",
   "execution_count": null,
   "metadata": {},
   "outputs": [],
   "source": []
  }
 ],
 "metadata": {
  "kernelspec": {
   "display_name": "studi",
   "language": "python",
   "name": "python3"
  },
  "language_info": {
   "codemirror_mode": {
    "name": "ipython",
    "version": 3
   },
   "file_extension": ".py",
   "mimetype": "text/x-python",
   "name": "python",
   "nbconvert_exporter": "python",
   "pygments_lexer": "ipython3",
   "version": "3.9.18"
  }
 },
 "nbformat": 4,
 "nbformat_minor": 2
}
