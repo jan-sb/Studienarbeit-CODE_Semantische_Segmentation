{
 "cells": [
  {
   "cell_type": "code",
   "execution_count": 1,
   "metadata": {},
   "outputs": [],
   "source": [
    "from Helper.ml_models import *\n",
    "from Helper.Helper_functions import * \n",
    "from torchvision.models.segmentation import *\n",
    "import gc, sys\n",
    "import cv2 as cv\n",
    "from torchvision.utils import draw_segmentation_masks\n",
    "from tqdm import tqdm\n"
   ]
  },
  {
   "cell_type": "code",
   "execution_count": 2,
   "metadata": {},
   "outputs": [],
   "source": [
    "city_label_color_map = np.array([\n",
    "    [0, 0, 0],       #ID__255, unlabeled\n",
    "    [128, 64, 128],  #ID__0, road\n",
    "    [244, 35, 232],  #ID__1, sidewalk\n",
    "    [70, 70, 70],    #ID__2, building\n",
    "    [102, 102, 156], #ID__3, wall\n",
    "    [190, 153, 153], #ID__4, fence\n",
    "    [153, 153, 153], #ID__5, pole\n",
    "    [250, 170, 30],  #ID__6, traffic light\n",
    "    [220, 220, 0],   #ID__7, traffic sign\n",
    "    [107, 142, 35],  #ID__8, vegetation\n",
    "    [152, 251, 152], #ID__9, terrain\n",
    "    [70, 130, 180],  #ID__10, sky\n",
    "    [220, 20, 60],   #ID__11, person\n",
    "    [255, 0, 0],     #ID__12, rider\n",
    "    [0, 0, 142],     #ID__13, car\n",
    "    [0, 0, 70],      #ID__14, truck\n",
    "    [0, 60, 100],    #ID__15, bus\n",
    "    [0, 80, 100],    #ID__16, train\n",
    "    [0, 0, 230],     #ID__17, motorcycle\n",
    "    [119, 11, 32],   #ID__18, bicycle\n",
    "])"
   ]
  },
  {
   "cell_type": "code",
   "execution_count": 3,
   "metadata": {},
   "outputs": [
    {
     "name": "stdout",
     "output_type": "stream",
     "text": [
      "List of duplicates \n",
      " set() \n",
      "\n"
     ]
    }
   ],
   "source": [
    "duplicates = check_duplicates_in_csv('Daten/CityscapesDaten')\n",
    "print(f'List of duplicates \\n {duplicates} \\n')"
   ]
  },
  {
   "cell_type": "code",
   "execution_count": 4,
   "metadata": {},
   "outputs": [
    {
     "name": "stdout",
     "output_type": "stream",
     "text": [
      "No data leaks found.\n"
     ]
    }
   ],
   "source": [
    "k_fold_dataset = K_Fold_Dataset(image_dir='CityscapesDaten/images',\n",
    "                                            annotation_dir='CityscapesDaten/semantic',\n",
    "                                            k_fold_csv_dir='Daten/CityscapesDaten',\n",
    "                                            leave_out_fold=0)\n",
    "k_fold_dataset.check_for_data_leaks()  "
   ]
  },
  {
   "cell_type": "markdown",
   "metadata": {},
   "source": []
  },
  {
   "cell_type": "code",
   "execution_count": 5,
   "metadata": {},
   "outputs": [
    {
     "name": "stdout",
     "output_type": "stream",
     "text": [
      "Image shape: torch.Size([3, 520, 520]), Annotation shape: torch.Size([520, 520])\n",
      "Annotation Value range: [  0   2   5   7   8  10  11  13  18 255]\n"
     ]
    }
   ],
   "source": [
    "image, annotation = k_fold_dataset.train_dataset[0]\n",
    "\n",
    "print(f'Image shape: {image.shape}, Annotation shape: {annotation.shape}')\n",
    "print(f'Annotation Value range: {np.unique(annotation)}')"
   ]
  },
  {
   "cell_type": "code",
   "execution_count": 6,
   "metadata": {},
   "outputs": [
    {
     "name": "stderr",
     "output_type": "stream",
     "text": [
      "Processing Annotations:   1%|          | 12/2224 [00:00<02:58, 12.36it/s]"
     ]
    },
    {
     "name": "stdout",
     "output_type": "stream",
     "text": [
      "Unique values in annotations: {0, 1, 2, 3, 4, 5, 6, 7, 8, 9, 10, 11, 12, 13, 14, 15, 16, 17, 18, 255}\n",
      "Number of unique values in annotations: 20\n"
     ]
    },
    {
     "name": "stderr",
     "output_type": "stream",
     "text": [
      "\n"
     ]
    }
   ],
   "source": [
    "unique_values = set()\n",
    "for _, annotation in tqdm(k_fold_dataset.train_dataset, desc='Processing Annotations'):\n",
    "    unique_values.update(np.unique(annotation))\n",
    "    if len(unique_values) >= 20:\n",
    "        break\n",
    "\n",
    "print(f'Unique values in annotations: {unique_values}')\n",
    "print(f'Number of unique values in annotations: {len(unique_values)}')\n"
   ]
  },
  {
   "cell_type": "code",
   "execution_count": null,
   "metadata": {},
   "outputs": [],
   "source": [
    "result_image = draw_segmentation_masks(image,\n",
    "                                        annotation,\n",
    "                                        0.5, \n",
    "                                        city_label_color_map)"
   ]
  }
 ],
 "metadata": {
  "kernelspec": {
   "display_name": "studi",
   "language": "python",
   "name": "python3"
  },
  "language_info": {
   "codemirror_mode": {
    "name": "ipython",
    "version": 3
   },
   "file_extension": ".py",
   "mimetype": "text/x-python",
   "name": "python",
   "nbconvert_exporter": "python",
   "pygments_lexer": "ipython3",
   "version": "3.9.18"
  }
 },
 "nbformat": 4,
 "nbformat_minor": 2
}
