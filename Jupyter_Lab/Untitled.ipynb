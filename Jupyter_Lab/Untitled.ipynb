{
 "cells": [
  {
   "cell_type": "code",
   "execution_count": 1,
   "id": "ac3296e4-efdf-47cd-b75f-1fbb5c4e725b",
   "metadata": {
    "tags": []
   },
   "outputs": [],
   "source": [
    "import cv2 as cv\n",
    "\n",
    "from __future__ import print_function, absolute_import, division\n",
    "from collections import namedtuple\n",
    "from cityscapesscripts.helpers.labels import *\n",
    "import os\n"
   ]
  },
  {
   "cell_type": "code",
   "execution_count": 4,
   "id": "8b713dad-e057-43fa-978d-d5555a142757",
   "metadata": {},
   "outputs": [
    {
     "name": "stdout",
     "output_type": "stream",
     "text": [
      "{33, 2, 3, 4, 5, 6, 7, 8, 1, 11, 17, 18, 20, 21, 23, 24, 26, 28}\n",
      "18\n"
     ]
    }
   ],
   "source": [
    "import cv2\n",
    "\n",
    "# Load the image\n",
    "image_path = '000000_01.png'\n",
    "image = cv2.imread(image_path, cv2.IMREAD_GRAYSCALE)\n",
    "\n",
    "# Create a set of all individual integer values in the image\n",
    "integer_set = set(image.flatten())\n",
    "\n",
    "# Print the set\n",
    "print(integer_set)\n",
    "print(len(integer_set))\n"
   ]
  },
  {
   "cell_type": "code",
   "execution_count": 1,
   "id": "13f9c09d",
   "metadata": {},
   "outputs": [
    {
     "ename": "",
     "evalue": "",
     "output_type": "error",
     "traceback": [
      "\u001b[1;31mThe Kernel crashed while executing code in the current cell or a previous cell. \n",
      "\u001b[1;31mPlease review the code in the cell(s) to identify a possible cause of the failure. \n",
      "\u001b[1;31mClick <a href='https://aka.ms/vscodeJupyterKernelCrash'>here</a> for more info. \n",
      "\u001b[1;31mView Jupyter <a href='command:jupyter.viewOutput'>log</a> for further details."
     ]
    }
   ],
   "source": [
    "import os\n",
    "import cv2\n",
    "import numpy as np\n",
    "\n",
    "# Define the directory path\n",
    "dir_path = '../CityscapesDaten/semantic'\n",
    "image_dir_path = '../CityscapesDaten/images'\n",
    "\n",
    "# Define the integers to look for\n",
    "integers_to_find = {29, 30}\n",
    "\n",
    "# Loop over all files in the directory\n",
    "for filename in os.listdir(dir_path):\n",
    "    # Construct the full file path\n",
    "    file_path = os.path.join(dir_path, filename)\n",
    "    \n",
    "    # Load the image in grayscale mode\n",
    "    image = cv2.imread(file_path, cv2.IMREAD_GRAYSCALE)\n",
    "    \n",
    "    # If the image was loaded successfully, check if it contains the integers\n",
    "    if image is not None:\n",
    "        unique_values = np.unique(image)\n",
    "        if integers_to_find.intersection(unique_values):\n",
    "            print(f\"Image {file_path} contains one of the integers {integers_to_find}.\")\n",
    "            \n",
    "            # Make all values 0 except for 29 and 30\n",
    "            image[(image != 29) & (image != 30)] = 0\n",
    "            \n",
    "            # Change 29 to 125 and 30 to 255\n",
    "            image[image == 29] = 125\n",
    "            image[image == 30] = 255\n",
    "            \n",
    "            # Load the corresponding image from the 'images' directory\n",
    "            image_file_path = os.path.join(image_dir_path, filename)\n",
    "            image2 = cv2.imread(image_file_path)\n",
    "            \n",
    "            # If the image was loaded successfully, overlay the images\n",
    "            if image2 is not None:\n",
    "                # Resize the semantic image to match the size of the original image\n",
    "                image = cv2.resize(image, (image2.shape[1], image2.shape[0]), interpolation = cv2.INTER_NEAREST)\n",
    "                \n",
    "                # Convert the semantic image to 3-channel image\n",
    "                image = cv2.cvtColor(image, cv2.COLOR_GRAY2BGR)\n",
    "                \n",
    "                # Overlay the images with a 50/50 weight\n",
    "                overlay = cv2.addWeighted(image2, 0.5, image, 0.5, 0)\n",
    "                \n",
    "                # Display the overlay\n",
    "                cv2.imshow('Overlay', overlay)\n",
    "                \n",
    "                # Wait for a key press\n",
    "                key = cv2.waitKey(0)\n",
    "                \n",
    "                # If the Escape key was pressed, break the loop\n",
    "                if key == 27:\n",
    "                    break\n",
    "                \n",
    "                # Close the window\n",
    "                cv2.destroyAllWindows()"
   ]
  },
  {
   "cell_type": "code",
   "execution_count": null,
   "id": "a7ba59b8",
   "metadata": {},
   "outputs": [],
   "source": []
  }
 ],
 "metadata": {
  "kernelspec": {
   "display_name": "Python 3 (ipykernel)",
   "language": "python",
   "name": "python3"
  },
  "language_info": {
   "codemirror_mode": {
    "name": "ipython",
    "version": 3
   },
   "file_extension": ".py",
   "mimetype": "text/x-python",
   "name": "python",
   "nbconvert_exporter": "python",
   "pygments_lexer": "ipython3",
   "version": "3.9.18"
  }
 },
 "nbformat": 4,
 "nbformat_minor": 5
}
