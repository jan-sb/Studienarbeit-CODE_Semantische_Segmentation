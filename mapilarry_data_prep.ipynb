{
 "cells": [
  {
   "cell_type": "code",
   "execution_count": 3,
   "metadata": {},
   "outputs": [],
   "source": [
    "import os\n",
    "import numpy as np\n",
    "import matplotlib.pyplot as plt\n",
    "from PIL import Image\n"
   ]
  },
  {
   "cell_type": "code",
   "execution_count": 4,
   "metadata": {},
   "outputs": [],
   "source": [
    "# (Später ersetzen) Hauptpfad zum entpackten Mapillary Vistas Dataset\n",
    "MAPILLARY_DATASET_PATH = \"PFAD_ZUM_MAPILLARY_VISTAS\"  \n",
    "\n",
    "# (Später ersetzen) Pfad zu den gelabelten Ground-Truth-Bildern\n",
    "LABELS_PATH = os.path.join(MAPILLARY_DATASET_PATH, \"PFAD_ZU_LABEL_BILDERN\")\n",
    "\n",
    "# (Später ersetzen) Pfad zum Speicherort für die umgelabelten Bilder\n",
    "OUTPUT_LABELS_PATH = os.path.join(MAPILLARY_DATASET_PATH, \"PFAD_ZU_NEU_LABEL_BILDERN\")\n",
    "\n",
    "# Mapillary → Cityscapes Label-Mapping (noch nicht befüllt, das kommt in einem späteren Schritt)\n",
    "LABEL_MAPPING = {}\n",
    "\n",
    "# Farben für die Visualisierung der Labels (RGB Dictionaries, später definieren)\n",
    "ORIGINAL_COLOR_MAP = {}\n",
    "NEW_COLOR_MAP = {}\n"
   ]
  },
  {
   "cell_type": "code",
   "execution_count": 5,
   "metadata": {},
   "outputs": [],
   "source": [
    "MAPILLARY_TO_CITYSCAPES = {\n",
    "    7: 'road',\n",
    "    8: 'sidewalk',\n",
    "    11: 'building',\n",
    "    12: 'wall',\n",
    "    13: 'fence',\n",
    "    17: 'pole',\n",
    "    19: 'traffic light',\n",
    "    20: 'traffic sign',\n",
    "    21: 'vegetation',\n",
    "    22: 'terrain',\n",
    "    23: 'sky',\n",
    "    24: 'person',\n",
    "    25: 'rider',\n",
    "    26: 'car',\n",
    "    27: 'truck',\n",
    "    28: 'bus',\n",
    "    31: 'train',\n",
    "    32: 'motorcycle',\n",
    "    33: 'bicycle',\n",
    "    \n",
    "    # Neue Klasse für Fahrbahnmarkierungen (Lane Markings)\n",
    "    200: 'lane marking',\n",
    "\n",
    "    # Alle nicht benötigten Klassen werden als 'unlabeled' behandelt\n",
    "    0: 'unlabeled'\n",
    "}"
   ]
  },
  {
   "cell_type": "code",
   "execution_count": null,
   "metadata": {},
   "outputs": [],
   "source": []
  }
 ],
 "metadata": {
  "kernelspec": {
   "display_name": "studi",
   "language": "python",
   "name": "python3"
  },
  "language_info": {
   "codemirror_mode": {
    "name": "ipython",
    "version": 3
   },
   "file_extension": ".py",
   "mimetype": "text/x-python",
   "name": "python",
   "nbconvert_exporter": "python",
   "pygments_lexer": "ipython3",
   "version": "3.9.18"
  }
 },
 "nbformat": 4,
 "nbformat_minor": 2
}
