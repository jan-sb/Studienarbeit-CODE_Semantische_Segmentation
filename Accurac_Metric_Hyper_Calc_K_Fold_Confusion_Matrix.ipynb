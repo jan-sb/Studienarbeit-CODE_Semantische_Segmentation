{
 "cells": [
  {
   "cell_type": "code",
   "execution_count": 1,
   "metadata": {},
   "outputs": [
    {
     "name": "stderr",
     "output_type": "stream",
     "text": [
      "/home/jan/anaconda3/envs/studi/lib/python3.9/site-packages/scipy/__init__.py:146: UserWarning: A NumPy version >=1.16.5 and <1.23.0 is required for this version of SciPy (detected version 1.24.3\n",
      "  warnings.warn(f\"A NumPy version >={np_minversion} and <{np_maxversion}\"\n",
      "2025-03-21 15:59:08.596183: I tensorflow/core/platform/cpu_feature_guard.cc:210] This TensorFlow binary is optimized to use available CPU instructions in performance-critical operations.\n",
      "To enable the following instructions: AVX2 FMA, in other operations, rebuild TensorFlow with the appropriate compiler flags.\n",
      "2025-03-21 15:59:09.200194: W tensorflow/compiler/tf2tensorrt/utils/py_utils.cc:38] TF-TRT Warning: Could not find TensorRT\n"
     ]
    },
    {
     "name": "stdout",
     "output_type": "stream",
     "text": [
      "K_FOLD_RUN_DIR: /home/jan/studienarbeit/Studienarbeit-CODE_Semantische_Segmentation/K_Fold_Run\n",
      "CONF_MATRIX_BASE: /home/jan/studienarbeit/Studienarbeit-CODE_Semantische_Segmentation/FINAL_DATEN/confusion_matrices_k_fold\n"
     ]
    }
   ],
   "source": [
    "import os\n",
    "import glob\n",
    "import torch\n",
    "from tqdm import tqdm\n",
    "import numpy as np\n",
    "\n",
    "# Aus deinem Projekt:\n",
    "from Helper.ml_models import TrainedModel, K_Fold_Dataset\n",
    "\n",
    "# Basisverzeichnis\n",
    "BASE_PATH = \"/home/jan/studienarbeit/Studienarbeit-CODE_Semantische_Segmentation\"\n",
    "\n",
    "# Verzeichnis mit den K-Fold-Runs\n",
    "K_FOLD_RUN_DIR = os.path.join(BASE_PATH, \"K_Fold_Run\")\n",
    "\n",
    "# Ausgabe-Verzeichnis für die Confusion Matrices, z.B.:\n",
    "CONF_MATRIX_BASE = os.path.join(BASE_PATH, \"FINAL_DATEN\", \"confusion_matrices_k_fold\")\n",
    "os.makedirs(CONF_MATRIX_BASE, exist_ok=True)\n",
    "\n",
    "# Cityscapes hat 20 Klassen\n",
    "NUM_CLASSES = 20\n",
    "\n",
    "print(\"K_FOLD_RUN_DIR:\", K_FOLD_RUN_DIR)\n",
    "print(\"CONF_MATRIX_BASE:\", CONF_MATRIX_BASE)"
   ]
  },
  {
   "cell_type": "code",
   "execution_count": 2,
   "metadata": {},
   "outputs": [],
   "source": [
    "def compute_confusion_matrix(predicted, ground_truth, num_classes):\n",
    "    \"\"\"\n",
    "    Berechnet die Confusion Matrix für ein einzelnes Bild.\n",
    "    \"\"\"\n",
    "    mask = (ground_truth >= 0) & (ground_truth < num_classes)\n",
    "    label = num_classes * ground_truth[mask] + predicted[mask]\n",
    "    count = torch.bincount(label, minlength=num_classes**2)\n",
    "    confusion_matrix = count.reshape(num_classes, num_classes)\n",
    "    return confusion_matrix\n"
   ]
  },
  {
   "cell_type": "code",
   "execution_count": 3,
   "metadata": {},
   "outputs": [
    {
     "name": "stdout",
     "output_type": "stream",
     "text": [
      "\n",
      "=== Starte Auswertung für Fold 0 ===\n",
      "Test-Dataset Größe (Fold 0): 695\n",
      "\n",
      "Lade Modell: deeplabv3_mobilenet_v3_large, Fold: 0\n",
      "Using CUDA GPU\n",
      "Model loaded: deeplabv3_mobilenet_v3_large | Device: cuda \n"
     ]
    },
    {
     "name": "stderr",
     "output_type": "stream",
     "text": [
      "Evaluierung deeplabv3_mobilenet_v3_large: 100%|██████████| 695/695 [00:55<00:00, 12.54it/s]\n"
     ]
    },
    {
     "name": "stdout",
     "output_type": "stream",
     "text": [
      "Confusion Matrix gespeichert unter: /home/jan/studienarbeit/Studienarbeit-CODE_Semantische_Segmentation/FINAL_DATEN/confusion_matrices_k_fold/Fold0/deeplabv3_mobilenet_v3_large_confusion_matrix.pt\n",
      "\n",
      "Lade Modell: deeplabv3_resnet50, Fold: 0\n",
      "Using CUDA GPU\n",
      "Model loaded: deeplabv3_resnet50 | Device: cuda \n"
     ]
    },
    {
     "name": "stderr",
     "output_type": "stream",
     "text": [
      "Evaluierung deeplabv3_resnet50: 100%|██████████| 695/695 [01:00<00:00, 11.53it/s]\n"
     ]
    },
    {
     "name": "stdout",
     "output_type": "stream",
     "text": [
      "Confusion Matrix gespeichert unter: /home/jan/studienarbeit/Studienarbeit-CODE_Semantische_Segmentation/FINAL_DATEN/confusion_matrices_k_fold/Fold0/deeplabv3_resnet50_confusion_matrix.pt\n",
      "\n",
      "Lade Modell: deeplabv3_resnet101, Fold: 0\n",
      "Using CUDA GPU\n",
      "Model loaded: deeplabv3_resnet101 | Device: cuda \n"
     ]
    },
    {
     "name": "stderr",
     "output_type": "stream",
     "text": [
      "Evaluierung deeplabv3_resnet101: 100%|██████████| 695/695 [01:07<00:00, 10.34it/s]\n"
     ]
    },
    {
     "name": "stdout",
     "output_type": "stream",
     "text": [
      "Confusion Matrix gespeichert unter: /home/jan/studienarbeit/Studienarbeit-CODE_Semantische_Segmentation/FINAL_DATEN/confusion_matrices_k_fold/Fold0/deeplabv3_resnet101_confusion_matrix.pt\n",
      "\n",
      "Lade Modell: fcn_resnet50, Fold: 0\n",
      "Using CUDA GPU\n",
      "Model loaded: fcn_resnet50 | Device: cuda \n"
     ]
    },
    {
     "name": "stderr",
     "output_type": "stream",
     "text": [
      "Evaluierung fcn_resnet50: 100%|██████████| 695/695 [00:58<00:00, 11.96it/s]\n"
     ]
    },
    {
     "name": "stdout",
     "output_type": "stream",
     "text": [
      "Confusion Matrix gespeichert unter: /home/jan/studienarbeit/Studienarbeit-CODE_Semantische_Segmentation/FINAL_DATEN/confusion_matrices_k_fold/Fold0/fcn_resnet50_confusion_matrix.pt\n",
      "\n",
      "Lade Modell: lraspp_mobilenet_v3_large, Fold: 0\n",
      "Using CUDA GPU\n",
      "Model loaded: lraspp_mobilenet_v3_large | Device: cuda \n"
     ]
    },
    {
     "name": "stderr",
     "output_type": "stream",
     "text": [
      "Evaluierung lraspp_mobilenet_v3_large: 100%|██████████| 695/695 [00:50<00:00, 13.73it/s]\n"
     ]
    },
    {
     "name": "stdout",
     "output_type": "stream",
     "text": [
      "Confusion Matrix gespeichert unter: /home/jan/studienarbeit/Studienarbeit-CODE_Semantische_Segmentation/FINAL_DATEN/confusion_matrices_k_fold/Fold0/lraspp_mobilenet_v3_large_confusion_matrix.pt\n",
      "\n",
      "Lade Modell: fcn_resnet101, Fold: 0\n",
      "Using CUDA GPU\n",
      "Model loaded: fcn_resnet101 | Device: cuda \n"
     ]
    },
    {
     "name": "stderr",
     "output_type": "stream",
     "text": [
      "Evaluierung fcn_resnet101: 100%|██████████| 695/695 [01:05<00:00, 10.62it/s]\n"
     ]
    },
    {
     "name": "stdout",
     "output_type": "stream",
     "text": [
      "Confusion Matrix gespeichert unter: /home/jan/studienarbeit/Studienarbeit-CODE_Semantische_Segmentation/FINAL_DATEN/confusion_matrices_k_fold/Fold0/fcn_resnet101_confusion_matrix.pt\n",
      "\n",
      "=== Starte Auswertung für Fold 1 ===\n",
      "Test-Dataset Größe (Fold 1): 695\n",
      "\n",
      "Lade Modell: deeplabv3_mobilenet_v3_large, Fold: 1\n",
      "Using CUDA GPU\n",
      "Model loaded: deeplabv3_mobilenet_v3_large | Device: cuda \n"
     ]
    },
    {
     "name": "stderr",
     "output_type": "stream",
     "text": [
      "Evaluierung deeplabv3_mobilenet_v3_large: 100%|██████████| 695/695 [01:00<00:00, 11.42it/s]\n"
     ]
    },
    {
     "name": "stdout",
     "output_type": "stream",
     "text": [
      "Confusion Matrix gespeichert unter: /home/jan/studienarbeit/Studienarbeit-CODE_Semantische_Segmentation/FINAL_DATEN/confusion_matrices_k_fold/Fold1/deeplabv3_mobilenet_v3_large_confusion_matrix.pt\n",
      "\n",
      "Lade Modell: lraspp_mobilenet_v3_large, Fold: 1\n",
      "Using CUDA GPU\n",
      "Model loaded: lraspp_mobilenet_v3_large | Device: cuda \n"
     ]
    },
    {
     "name": "stderr",
     "output_type": "stream",
     "text": [
      "Evaluierung lraspp_mobilenet_v3_large: 100%|██████████| 695/695 [00:51<00:00, 13.60it/s]\n"
     ]
    },
    {
     "name": "stdout",
     "output_type": "stream",
     "text": [
      "Confusion Matrix gespeichert unter: /home/jan/studienarbeit/Studienarbeit-CODE_Semantische_Segmentation/FINAL_DATEN/confusion_matrices_k_fold/Fold1/lraspp_mobilenet_v3_large_confusion_matrix.pt\n",
      "\n",
      "Lade Modell: fcn_resnet50, Fold: 1\n",
      "Using CUDA GPU\n",
      "Model loaded: fcn_resnet50 | Device: cuda \n"
     ]
    },
    {
     "name": "stderr",
     "output_type": "stream",
     "text": [
      "Evaluierung fcn_resnet50: 100%|██████████| 695/695 [00:58<00:00, 11.84it/s]\n"
     ]
    },
    {
     "name": "stdout",
     "output_type": "stream",
     "text": [
      "Confusion Matrix gespeichert unter: /home/jan/studienarbeit/Studienarbeit-CODE_Semantische_Segmentation/FINAL_DATEN/confusion_matrices_k_fold/Fold1/fcn_resnet50_confusion_matrix.pt\n",
      "\n",
      "Lade Modell: deeplabv3_resnet101, Fold: 1\n",
      "Using CUDA GPU\n",
      "Model loaded: deeplabv3_resnet101 | Device: cuda \n"
     ]
    },
    {
     "name": "stderr",
     "output_type": "stream",
     "text": [
      "Evaluierung deeplabv3_resnet101: 100%|██████████| 695/695 [01:08<00:00, 10.22it/s]\n"
     ]
    },
    {
     "name": "stdout",
     "output_type": "stream",
     "text": [
      "Confusion Matrix gespeichert unter: /home/jan/studienarbeit/Studienarbeit-CODE_Semantische_Segmentation/FINAL_DATEN/confusion_matrices_k_fold/Fold1/deeplabv3_resnet101_confusion_matrix.pt\n",
      "\n",
      "Lade Modell: deeplabv3_resnet50, Fold: 1\n",
      "Using CUDA GPU\n",
      "Model loaded: deeplabv3_resnet50 | Device: cuda \n"
     ]
    },
    {
     "name": "stderr",
     "output_type": "stream",
     "text": [
      "Evaluierung deeplabv3_resnet50: 100%|██████████| 695/695 [01:00<00:00, 11.41it/s]\n"
     ]
    },
    {
     "name": "stdout",
     "output_type": "stream",
     "text": [
      "Confusion Matrix gespeichert unter: /home/jan/studienarbeit/Studienarbeit-CODE_Semantische_Segmentation/FINAL_DATEN/confusion_matrices_k_fold/Fold1/deeplabv3_resnet50_confusion_matrix.pt\n",
      "\n",
      "Lade Modell: fcn_resnet101, Fold: 1\n",
      "Using CUDA GPU\n",
      "Model loaded: fcn_resnet101 | Device: cuda \n"
     ]
    },
    {
     "name": "stderr",
     "output_type": "stream",
     "text": [
      "Evaluierung fcn_resnet101: 100%|██████████| 695/695 [01:06<00:00, 10.51it/s]\n"
     ]
    },
    {
     "name": "stdout",
     "output_type": "stream",
     "text": [
      "Confusion Matrix gespeichert unter: /home/jan/studienarbeit/Studienarbeit-CODE_Semantische_Segmentation/FINAL_DATEN/confusion_matrices_k_fold/Fold1/fcn_resnet101_confusion_matrix.pt\n",
      "\n",
      "=== Starte Auswertung für Fold 2 ===\n",
      "Test-Dataset Größe (Fold 2): 695\n",
      "\n",
      "Lade Modell: fcn_resnet101, Fold: 2\n",
      "Using CUDA GPU\n",
      "Model loaded: fcn_resnet101 | Device: cuda \n"
     ]
    },
    {
     "name": "stderr",
     "output_type": "stream",
     "text": [
      "Evaluierung fcn_resnet101: 100%|██████████| 695/695 [01:09<00:00,  9.99it/s]\n"
     ]
    },
    {
     "name": "stdout",
     "output_type": "stream",
     "text": [
      "Confusion Matrix gespeichert unter: /home/jan/studienarbeit/Studienarbeit-CODE_Semantische_Segmentation/FINAL_DATEN/confusion_matrices_k_fold/Fold2/fcn_resnet101_confusion_matrix.pt\n",
      "\n",
      "Lade Modell: deeplabv3_mobilenet_v3_large, Fold: 2\n",
      "Using CUDA GPU\n",
      "Model loaded: deeplabv3_mobilenet_v3_large | Device: cuda \n"
     ]
    },
    {
     "name": "stderr",
     "output_type": "stream",
     "text": [
      "Evaluierung deeplabv3_mobilenet_v3_large: 100%|██████████| 695/695 [00:51<00:00, 13.54it/s]\n"
     ]
    },
    {
     "name": "stdout",
     "output_type": "stream",
     "text": [
      "Confusion Matrix gespeichert unter: /home/jan/studienarbeit/Studienarbeit-CODE_Semantische_Segmentation/FINAL_DATEN/confusion_matrices_k_fold/Fold2/deeplabv3_mobilenet_v3_large_confusion_matrix.pt\n",
      "\n",
      "Lade Modell: deeplabv3_resnet101, Fold: 2\n",
      "Using CUDA GPU\n",
      "Model loaded: deeplabv3_resnet101 | Device: cuda \n"
     ]
    },
    {
     "name": "stderr",
     "output_type": "stream",
     "text": [
      "Evaluierung deeplabv3_resnet101: 100%|██████████| 695/695 [01:09<00:00, 10.04it/s]\n"
     ]
    },
    {
     "name": "stdout",
     "output_type": "stream",
     "text": [
      "Confusion Matrix gespeichert unter: /home/jan/studienarbeit/Studienarbeit-CODE_Semantische_Segmentation/FINAL_DATEN/confusion_matrices_k_fold/Fold2/deeplabv3_resnet101_confusion_matrix.pt\n",
      "\n",
      "Lade Modell: lraspp_mobilenet_v3_large, Fold: 2\n",
      "Using CUDA GPU\n",
      "Model loaded: lraspp_mobilenet_v3_large | Device: cuda \n"
     ]
    },
    {
     "name": "stderr",
     "output_type": "stream",
     "text": [
      "Evaluierung lraspp_mobilenet_v3_large: 100%|██████████| 695/695 [00:50<00:00, 13.68it/s]\n"
     ]
    },
    {
     "name": "stdout",
     "output_type": "stream",
     "text": [
      "Confusion Matrix gespeichert unter: /home/jan/studienarbeit/Studienarbeit-CODE_Semantische_Segmentation/FINAL_DATEN/confusion_matrices_k_fold/Fold2/lraspp_mobilenet_v3_large_confusion_matrix.pt\n",
      "\n",
      "Lade Modell: deeplabv3_resnet50, Fold: 2\n",
      "Using CUDA GPU\n",
      "Model loaded: deeplabv3_resnet50 | Device: cuda \n"
     ]
    },
    {
     "name": "stderr",
     "output_type": "stream",
     "text": [
      "Evaluierung deeplabv3_resnet50: 100%|██████████| 695/695 [01:00<00:00, 11.41it/s]\n"
     ]
    },
    {
     "name": "stdout",
     "output_type": "stream",
     "text": [
      "Confusion Matrix gespeichert unter: /home/jan/studienarbeit/Studienarbeit-CODE_Semantische_Segmentation/FINAL_DATEN/confusion_matrices_k_fold/Fold2/deeplabv3_resnet50_confusion_matrix.pt\n",
      "\n",
      "Lade Modell: fcn_resnet50, Fold: 2\n",
      "Using CUDA GPU\n",
      "Model loaded: fcn_resnet50 | Device: cuda \n"
     ]
    },
    {
     "name": "stderr",
     "output_type": "stream",
     "text": [
      "Evaluierung fcn_resnet50: 100%|██████████| 695/695 [00:58<00:00, 11.83it/s]\n"
     ]
    },
    {
     "name": "stdout",
     "output_type": "stream",
     "text": [
      "Confusion Matrix gespeichert unter: /home/jan/studienarbeit/Studienarbeit-CODE_Semantische_Segmentation/FINAL_DATEN/confusion_matrices_k_fold/Fold2/fcn_resnet50_confusion_matrix.pt\n",
      "\n",
      "=== Starte Auswertung für Fold 3 ===\n",
      "Test-Dataset Größe (Fold 3): 695\n",
      "\n",
      "Lade Modell: deeplabv3_mobilenet_v3_large, Fold: 3\n",
      "Using CUDA GPU\n",
      "Model loaded: deeplabv3_mobilenet_v3_large | Device: cuda \n"
     ]
    },
    {
     "name": "stderr",
     "output_type": "stream",
     "text": [
      "Evaluierung deeplabv3_mobilenet_v3_large: 100%|██████████| 695/695 [00:54<00:00, 12.84it/s]\n"
     ]
    },
    {
     "name": "stdout",
     "output_type": "stream",
     "text": [
      "Confusion Matrix gespeichert unter: /home/jan/studienarbeit/Studienarbeit-CODE_Semantische_Segmentation/FINAL_DATEN/confusion_matrices_k_fold/Fold3/deeplabv3_mobilenet_v3_large_confusion_matrix.pt\n",
      "\n",
      "Lade Modell: lraspp_mobilenet_v3_large, Fold: 3\n",
      "Using CUDA GPU\n",
      "Model loaded: lraspp_mobilenet_v3_large | Device: cuda \n"
     ]
    },
    {
     "name": "stderr",
     "output_type": "stream",
     "text": [
      "Evaluierung lraspp_mobilenet_v3_large: 100%|██████████| 695/695 [00:50<00:00, 13.77it/s]\n"
     ]
    },
    {
     "name": "stdout",
     "output_type": "stream",
     "text": [
      "Confusion Matrix gespeichert unter: /home/jan/studienarbeit/Studienarbeit-CODE_Semantische_Segmentation/FINAL_DATEN/confusion_matrices_k_fold/Fold3/lraspp_mobilenet_v3_large_confusion_matrix.pt\n",
      "\n",
      "Lade Modell: fcn_resnet50, Fold: 3\n",
      "Using CUDA GPU\n",
      "Model loaded: fcn_resnet50 | Device: cuda \n"
     ]
    },
    {
     "name": "stderr",
     "output_type": "stream",
     "text": [
      "Evaluierung fcn_resnet50: 100%|██████████| 695/695 [00:58<00:00, 11.90it/s]\n"
     ]
    },
    {
     "name": "stdout",
     "output_type": "stream",
     "text": [
      "Confusion Matrix gespeichert unter: /home/jan/studienarbeit/Studienarbeit-CODE_Semantische_Segmentation/FINAL_DATEN/confusion_matrices_k_fold/Fold3/fcn_resnet50_confusion_matrix.pt\n",
      "\n",
      "Lade Modell: deeplabv3_resnet50, Fold: 3\n",
      "Using CUDA GPU\n",
      "Model loaded: deeplabv3_resnet50 | Device: cuda \n"
     ]
    },
    {
     "name": "stderr",
     "output_type": "stream",
     "text": [
      "Evaluierung deeplabv3_resnet50: 100%|██████████| 695/695 [01:00<00:00, 11.44it/s]\n"
     ]
    },
    {
     "name": "stdout",
     "output_type": "stream",
     "text": [
      "Confusion Matrix gespeichert unter: /home/jan/studienarbeit/Studienarbeit-CODE_Semantische_Segmentation/FINAL_DATEN/confusion_matrices_k_fold/Fold3/deeplabv3_resnet50_confusion_matrix.pt\n",
      "\n",
      "Lade Modell: fcn_resnet101, Fold: 3\n",
      "Using CUDA GPU\n",
      "Model loaded: fcn_resnet101 | Device: cuda \n"
     ]
    },
    {
     "name": "stderr",
     "output_type": "stream",
     "text": [
      "Evaluierung fcn_resnet101: 100%|██████████| 695/695 [01:05<00:00, 10.65it/s]\n"
     ]
    },
    {
     "name": "stdout",
     "output_type": "stream",
     "text": [
      "Confusion Matrix gespeichert unter: /home/jan/studienarbeit/Studienarbeit-CODE_Semantische_Segmentation/FINAL_DATEN/confusion_matrices_k_fold/Fold3/fcn_resnet101_confusion_matrix.pt\n",
      "\n",
      "Lade Modell: deeplabv3_resnet101, Fold: 3\n",
      "Using CUDA GPU\n",
      "Model loaded: deeplabv3_resnet101 | Device: cuda \n"
     ]
    },
    {
     "name": "stderr",
     "output_type": "stream",
     "text": [
      "Evaluierung deeplabv3_resnet101: 100%|██████████| 695/695 [01:08<00:00, 10.22it/s]\n"
     ]
    },
    {
     "name": "stdout",
     "output_type": "stream",
     "text": [
      "Confusion Matrix gespeichert unter: /home/jan/studienarbeit/Studienarbeit-CODE_Semantische_Segmentation/FINAL_DATEN/confusion_matrices_k_fold/Fold3/deeplabv3_resnet101_confusion_matrix.pt\n",
      "\n",
      "=== Starte Auswertung für Fold 4 ===\n",
      "Test-Dataset Größe (Fold 4): 695\n",
      "\n",
      "Lade Modell: fcn_resnet101, Fold: 4\n",
      "Using CUDA GPU\n",
      "Model loaded: fcn_resnet101 | Device: cuda \n"
     ]
    },
    {
     "name": "stderr",
     "output_type": "stream",
     "text": [
      "Evaluierung fcn_resnet101: 100%|██████████| 695/695 [01:08<00:00, 10.13it/s]\n"
     ]
    },
    {
     "name": "stdout",
     "output_type": "stream",
     "text": [
      "Confusion Matrix gespeichert unter: /home/jan/studienarbeit/Studienarbeit-CODE_Semantische_Segmentation/FINAL_DATEN/confusion_matrices_k_fold/Fold4/fcn_resnet101_confusion_matrix.pt\n",
      "\n",
      "Lade Modell: deeplabv3_resnet101, Fold: 4\n",
      "Using CUDA GPU\n",
      "Model loaded: deeplabv3_resnet101 | Device: cuda \n"
     ]
    },
    {
     "name": "stderr",
     "output_type": "stream",
     "text": [
      "Evaluierung deeplabv3_resnet101: 100%|██████████| 695/695 [01:08<00:00, 10.17it/s]\n"
     ]
    },
    {
     "name": "stdout",
     "output_type": "stream",
     "text": [
      "Confusion Matrix gespeichert unter: /home/jan/studienarbeit/Studienarbeit-CODE_Semantische_Segmentation/FINAL_DATEN/confusion_matrices_k_fold/Fold4/deeplabv3_resnet101_confusion_matrix.pt\n",
      "\n",
      "Lade Modell: deeplabv3_resnet50, Fold: 4\n",
      "Using CUDA GPU\n",
      "Model loaded: deeplabv3_resnet50 | Device: cuda \n"
     ]
    },
    {
     "name": "stderr",
     "output_type": "stream",
     "text": [
      "Evaluierung deeplabv3_resnet50: 100%|██████████| 695/695 [01:01<00:00, 11.34it/s]\n"
     ]
    },
    {
     "name": "stdout",
     "output_type": "stream",
     "text": [
      "Confusion Matrix gespeichert unter: /home/jan/studienarbeit/Studienarbeit-CODE_Semantische_Segmentation/FINAL_DATEN/confusion_matrices_k_fold/Fold4/deeplabv3_resnet50_confusion_matrix.pt\n",
      "\n",
      "Lade Modell: deeplabv3_mobilenet_v3_large, Fold: 4\n",
      "Using CUDA GPU\n",
      "Model loaded: deeplabv3_mobilenet_v3_large | Device: cuda \n"
     ]
    },
    {
     "name": "stderr",
     "output_type": "stream",
     "text": [
      "Evaluierung deeplabv3_mobilenet_v3_large: 100%|██████████| 695/695 [00:51<00:00, 13.48it/s]\n"
     ]
    },
    {
     "name": "stdout",
     "output_type": "stream",
     "text": [
      "Confusion Matrix gespeichert unter: /home/jan/studienarbeit/Studienarbeit-CODE_Semantische_Segmentation/FINAL_DATEN/confusion_matrices_k_fold/Fold4/deeplabv3_mobilenet_v3_large_confusion_matrix.pt\n",
      "\n",
      "Lade Modell: fcn_resnet50, Fold: 4\n",
      "Using CUDA GPU\n",
      "Model loaded: fcn_resnet50 | Device: cuda \n"
     ]
    },
    {
     "name": "stderr",
     "output_type": "stream",
     "text": [
      "Evaluierung fcn_resnet50: 100%|██████████| 695/695 [00:58<00:00, 11.82it/s]\n"
     ]
    },
    {
     "name": "stdout",
     "output_type": "stream",
     "text": [
      "Confusion Matrix gespeichert unter: /home/jan/studienarbeit/Studienarbeit-CODE_Semantische_Segmentation/FINAL_DATEN/confusion_matrices_k_fold/Fold4/fcn_resnet50_confusion_matrix.pt\n",
      "\n",
      "Lade Modell: lraspp_mobilenet_v3_large, Fold: 4\n",
      "Using CUDA GPU\n",
      "Model loaded: lraspp_mobilenet_v3_large | Device: cuda \n"
     ]
    },
    {
     "name": "stderr",
     "output_type": "stream",
     "text": [
      "Evaluierung lraspp_mobilenet_v3_large: 100%|██████████| 695/695 [00:50<00:00, 13.81it/s]"
     ]
    },
    {
     "name": "stdout",
     "output_type": "stream",
     "text": [
      "Confusion Matrix gespeichert unter: /home/jan/studienarbeit/Studienarbeit-CODE_Semantische_Segmentation/FINAL_DATEN/confusion_matrices_k_fold/Fold4/lraspp_mobilenet_v3_large_confusion_matrix.pt\n"
     ]
    },
    {
     "name": "stderr",
     "output_type": "stream",
     "text": [
      "\n"
     ]
    }
   ],
   "source": [
    "# Wir gehen davon aus, dass die Folds von 0 bis 4 laufen.\n",
    "# Für jeden Fold wird leave_out_fold = fold als Testset genutzt.\n",
    "NUM_FOLDS = 5\n",
    "\n",
    "for fold in range(NUM_FOLDS):\n",
    "    print(f\"\\n=== Starte Auswertung für Fold {fold} ===\")\n",
    "    \n",
    "    # Erstelle den K-Fold-Datensatz mit dem entsprechenden leave_out_fold\n",
    "    k_fold_dataset = K_Fold_Dataset(\n",
    "        image_dir='CityscapesDaten/images',\n",
    "        annotation_dir='CityscapesDaten/semantic',\n",
    "        k_fold_csv_dir='Daten/CityscapesDaten',\n",
    "        leave_out_fold=fold\n",
    "    )\n",
    "    print(f\"Test-Dataset Größe (Fold {fold}): {len(k_fold_dataset.test_dataset)}\")\n",
    "    \n",
    "    # Finde alle Ordner in K_Fold_Run, die zu diesem Fold gehören,\n",
    "    # also z.B. \"deeplabv3_mobilenet_v3_large_k_fold_0\"\n",
    "    pattern = f\"*_k_fold_{fold}\"\n",
    "    fold_folders = glob.glob(os.path.join(K_FOLD_RUN_DIR, pattern))\n",
    "    \n",
    "    # Erstelle das Ausgabe-Verzeichnis für diesen Fold\n",
    "    fold_output_dir = os.path.join(CONF_MATRIX_BASE, f\"Fold{fold}\")\n",
    "    os.makedirs(fold_output_dir, exist_ok=True)\n",
    "    \n",
    "    # Iteriere über alle gefundenen Modellordner\n",
    "    for model_folder_path in fold_folders:\n",
    "        base_name = os.path.basename(model_folder_path)\n",
    "        # Beispiel: \"deeplabv3_mobilenet_v3_large_k_fold_0\"\n",
    "        # Modellname wäre \"deeplabv3_mobilenet_v3_large\"\n",
    "        # => wir entfernen \"_k_fold_0\" vom Ordnernamen\n",
    "        model_name = base_name.rsplit(f\"_k_fold_{fold}\", 1)[0]\n",
    "        \n",
    "        print(f\"\\nLade Modell: {model_name}, Fold: {fold}\")\n",
    "        \n",
    "        # Lade das Modell mithilfe von TrainedModel\n",
    "        # Die Parameter (width, height) anpassen, wenn deine Modelle andere Input-Shapes erwarten\n",
    "        # (bspw. 2048 x 1024 wie in deinem Beispiel).\n",
    "        model = TrainedModel(\n",
    "            model_name=model_name,\n",
    "            width=2048,\n",
    "            height=1024,\n",
    "            weights_name=base_name,     # => \"deeplabv3_mobilenet_v3_large_k_fold_0\"\n",
    "            folder_path=K_FOLD_RUN_DIR,\n",
    "            start_epoch='latest'        # Lädt den neuesten Checkpoint\n",
    "        )\n",
    "        \n",
    "        # Modell in den Evaluationsmodus setzen\n",
    "        model.model.eval()\n",
    "        \n",
    "        # Initialisiere die Confusion Matrix für dieses Modell\n",
    "        confusion_matrix_total = torch.zeros((NUM_CLASSES, NUM_CLASSES), dtype=torch.int64)\n",
    "        \n",
    "        # Test-Datensatz durchlaufen\n",
    "        with torch.no_grad():\n",
    "            for i in tqdm(range(len(k_fold_dataset.test_dataset)), desc=f\"Evaluierung {model_name}\"):\n",
    "                image, annotation = k_fold_dataset.test_dataset[i]\n",
    "                \n",
    "                # Inferenz\n",
    "                output = model.inference(image)\n",
    "                predicted = output.argmax(1).squeeze(0)\n",
    "                \n",
    "                # Aktualisiere die Confusion Matrix\n",
    "                cm = compute_confusion_matrix(predicted.cpu(), annotation.cpu(), NUM_CLASSES)\n",
    "                confusion_matrix_total += cm\n",
    "        \n",
    "        # Speichere die Confusion Matrix\n",
    "        cm_save_path = os.path.join(fold_output_dir, f\"{model_name}_confusion_matrix.pt\")\n",
    "        torch.save(confusion_matrix_total, cm_save_path)\n",
    "        print(f\"Confusion Matrix gespeichert unter: {cm_save_path}\")\n",
    "\n"
   ]
  },
  {
   "cell_type": "code",
   "execution_count": null,
   "metadata": {},
   "outputs": [],
   "source": []
  }
 ],
 "metadata": {
  "kernelspec": {
   "display_name": "studi",
   "language": "python",
   "name": "python3"
  },
  "language_info": {
   "codemirror_mode": {
    "name": "ipython",
    "version": 3
   },
   "file_extension": ".py",
   "mimetype": "text/x-python",
   "name": "python",
   "nbconvert_exporter": "python",
   "pygments_lexer": "ipython3",
   "version": "3.9.18"
  }
 },
 "nbformat": 4,
 "nbformat_minor": 2
}
