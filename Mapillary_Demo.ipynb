{
  "cells": [
    {
      "cell_type": "code",
      "execution_count": 2,
      "metadata": {
        "id": "50xsGHYEcmns"
      },
      "outputs": [],
      "source": [
        "import mapillary.interface as mly\n",
        "import requests\n",
        "import json"
      ]
    },
    {
      "cell_type": "code",
      "execution_count": null,
      "metadata": {},
      "outputs": [],
      "source": []
    },
    {
      "cell_type": "code",
      "execution_count": null,
      "metadata": {
        "id": "1Ke8fxNpdg0r"
      },
      "outputs": [],
      "source": [
        "# Your token here!\n",
        "# To get one, visit https://www.mapillary.com/dashboard/developer, go to 'developers',\n",
        "# Then 'register application', register a new application (read access atleast),\n",
        "# then copy & paste the 'Client Token' here\n",
        "MLY_ACCESS_TOKEN = 'MLY|YYY'"
      ]
    },
    {
      "cell_type": "code",
      "execution_count": null,
      "metadata": {
        "id": "y8SZyXh69MaV"
      },
      "outputs": [],
      "source": [
        "mly.set_access_token(MLY_ACCESS_TOKEN)"
      ]
    },
    {
      "cell_type": "code",
      "execution_count": null,
      "metadata": {
        "id": "HFRn2yeDmjYb"
      },
      "outputs": [],
      "source": [
        "images_in_geojson_1 = requests.get('https://gist.githubusercontent.com/Rubix982/aa96e34c2c5165ee6b3faa55fe25a57a/raw/4598b8160756abeacbaf5493a989bec14cdf4690/images_in_geojson_1.json').json()\n",
        "images_in_geojson_2 = requests.get('https://gist.githubusercontent.com/Rubix982/bca606a844dcf3341a10d55d69bba5a1/raw/eb8914edc0e9bebdaef968fd3a096ac7bd066024/images_in_geojson_2.json').json()\n",
        "images_in_geojson_3 = requests.get('https://gist.githubusercontent.com/Rubix982/2dedf195d4f37fe17695ec15ea741ae6/raw/833e362aeda0aba3dd47be8049ea2cbae4f97b5a/images_in_geojson_3.json').json()\n",
        "polygon = requests.get('https://gist.githubusercontent.com/Rubix982/b9e5ddeb0f482ae107433067fe0d18fd/raw/070ba0e2228bb32d0068b11012b9918c83df048d/polygon.json').json()"
      ]
    },
    {
      "cell_type": "code",
      "execution_count": null,
      "metadata": {
        "id": "-W3L2du_nDmE"
      },
      "outputs": [],
      "source": [
        "polygon"
      ]
    },
    {
      "cell_type": "markdown",
      "metadata": {
        "id": "zjwYNdOOsSNm"
      },
      "source": [
        "# mly.get_image_close_to\n",
        "\n",
        "Function that takes a longitude, latitude as argument and outputs the near images. This makes an API call with the token set in set_access_token and returns a JSON object.\n",
        "\n",
        "[Read More](https://mapillary.github.io/mapillary-python-sdk/docs/mapillary/mapillary.interface#mapillaryinterfaceget_image_close_tolatitude--1221504711-longitude37485073-kwargs)"
      ]
    },
    {
      "cell_type": "code",
      "execution_count": null,
      "metadata": {
        "id": "O259L3dddjSz"
      },
      "outputs": [],
      "source": [
        "data = mly.get_image_close_to(longitude=31, latitude=30).to_dict()\n",
        "with open(\"get_image_close_to_1.json\", mode=\"w\") as f:\n",
        "    json.dump(data, f, indent=4)"
      ]
    },
    {
      "cell_type": "code",
      "execution_count": null,
      "metadata": {
        "id": "gHBQ1uypdpb7"
      },
      "outputs": [],
      "source": [
        "data = mly.get_image_close_to(longitude=31, latitude=30, radius=900).to_dict()\n",
        "with open(\"get_image_close_to_2.json\", mode=\"w\") as f:\n",
        "    json.dump(data, f, indent=4)"
      ]
    },
    {
      "cell_type": "code",
      "execution_count": null,
      "metadata": {
        "id": "thly-OXFd3X9"
      },
      "outputs": [],
      "source": [
        "data = mly.get_image_close_to(\n",
        "    longitude=31, latitude=30, radius=1750, image_type=\"flat\", min_captured_at=\"2016-05-20\"\n",
        ").to_dict()\n",
        "\n",
        "with open(\"get_image_close_to_3.json\", mode=\"w\") as f:\n",
        "    json.dump(data, f, indent=4)"
      ]
    },
    {
      "cell_type": "code",
      "execution_count": null,
      "metadata": {
        "id": "QI-slIx3d9Tc"
      },
      "outputs": [],
      "source": [
        "data = mly.get_image_close_to(\n",
        "    longitude=31, latitude=30, radius=2000, image_type=\"flat\", max_captured_at=\"2021-05-20\"\n",
        ").to_dict()\n",
        "\n",
        "with open(\"get_image_close_to_4.json\", mode=\"w\") as f:\n",
        "    json.dump(data, f, indent=4)"
      ]
    },
    {
      "cell_type": "code",
      "execution_count": null,
      "metadata": {
        "id": "QU8dnmmhd_rK"
      },
      "outputs": [],
      "source": [
        "data = mly.get_image_close_to(\n",
        "    longitude=31, latitude=30, radius=2000, image_type=\"flat\", max_captured_at=\"2018-05-20\"\n",
        ").to_dict()\n",
        "\n",
        "with open(\"get_image_close_to_5.json\", mode=\"w\") as f:\n",
        "    json.dump(data, f, indent=4)"
      ]
    },
    {
      "cell_type": "code",
      "execution_count": null,
      "metadata": {
        "id": "kuwVe7mQeCaL"
      },
      "outputs": [],
      "source": [
        "data = mly.get_image_close_to(longitude=31, latitude=30, max_captured_at=\"*\").to_dict()\n",
        "\n",
        "with open(\"get_image_close_to_6.json\", mode=\"w\") as f:\n",
        "    json.dump(data, f, indent=4)"
      ]
    },
    {
      "cell_type": "markdown",
      "metadata": {
        "id": "Y1y66htqsome"
      },
      "source": [
        "# mly.get_image_looking_at\n",
        "\n",
        "Function that takes two sets of latitude and longitude, where the 2nd set is the “looking at” location from 1st set’s perspective argument and outputs the near images. This makes an API call with the token set in set_access_token and returns a JSON object.\n",
        "\n",
        "[Read More](https://mapillary.github.io/mapillary-python-sdk/docs/mapillary/mapillary.interface#mapillaryinterfaceget_image_looking_atlooker-dict-at-dict-filters-dict)"
      ]
    },
    {
      "cell_type": "code",
      "execution_count": null,
      "metadata": {
        "id": "SAJYtTnBeEGj"
      },
      "outputs": [],
      "source": [
        "data = mly.get_image_looking_at(\n",
        "    looker={\n",
        "        \"lng\": 12.954940544167,\n",
        "        \"lat\": 48.0537894275,\n",
        "    },\n",
        "    at={\n",
        "        \"lng\": 12.955075073889,\n",
        "        \"lat\": 48.053805939722,\n",
        "    },\n",
        "    radius=5000,\n",
        ").to_dict()\n",
        "\n",
        "with open(\"get_image_looking_at_1.json\", mode=\"w\") as f:\n",
        "    json.dump(data, f, indent=4)"
      ]
    },
    {
      "cell_type": "code",
      "execution_count": null,
      "metadata": {
        "id": "J0t86Y7qeG4w"
      },
      "outputs": [],
      "source": [
        "data = mly.get_image_looking_at(\n",
        "    looker={\n",
        "        \"lng\": 31.34212895704,\n",
        "        \"lat\": 30.095393350648,\n",
        "    },\n",
        "    at={\n",
        "        \"lng\": 31.342324414868,\n",
        "        \"lat\": 30.095490651662,\n",
        "    },\n",
        "    radius=150,\n",
        ").to_dict()\n",
        "\n",
        "with open(\"get_image_looking_at_2.json\", mode=\"w\") as f:\n",
        "    json.dump(data, f, indent=4)"
      ]
    },
    {
      "cell_type": "code",
      "execution_count": null,
      "metadata": {
        "id": "eM_Ts5P3eJym"
      },
      "outputs": [],
      "source": [
        "data = mly.get_image_looking_at(\n",
        "    looker={\n",
        "        \"lng\": 31.34212895704,\n",
        "        \"lat\": 30.095393350648,\n",
        "    },\n",
        "    at={\n",
        "        \"lng\": 31.342324414868,\n",
        "        \"lat\": 30.095490651662,\n",
        "    },\n",
        "    radius=1000000,\n",
        ").to_dict()\n",
        "\n",
        "with open(\"get_image_looking_at_3.json\", mode=\"w\") as f:\n",
        "    json.dump(data, f, indent=4)"
      ]
    },
    {
      "cell_type": "code",
      "execution_count": null,
      "metadata": {
        "id": "OIol0mabeMWc"
      },
      "outputs": [],
      "source": [
        "data = mly.get_image_looking_at(\n",
        "    looker={\n",
        "        \"lng\": 31.34212895704,\n",
        "        \"lat\": 30.095393350648,\n",
        "    },\n",
        "    at={\n",
        "        \"lng\": 31.342324414868,\n",
        "        \"lat\": 30.095490651662,\n",
        "    },\n",
        "    radius=1000000,\n",
        "    image_type=\"pano\",\n",
        ").to_dict()\n",
        "\n",
        "with open(\"get_image_looking_at_4.json\", mode=\"w\") as f:\n",
        "    json.dump(data, f, indent=4)"
      ]
    },
    {
      "cell_type": "markdown",
      "metadata": {
        "id": "RgoUDV4Po6a6"
      },
      "source": [
        "  Because the get_image_looking_at function can be a bit confusing, it is helpful once again to see what the documentation has to say for it,\n",
        "\n",
        "```text\n",
        "Function that takes two sets of latitude and longitude, where the 2nd set is the\n",
        "\"looking at\" location from 1st set's perspective argument and outputs the near images. This\n",
        "makes an API call with the token set in set_access_token and returns a JSON object.\n",
        "```\n",
        "\n",
        "Okay, which more or less means that given two coordinate sets, \"looker\", and \"at\", if the \"at\" coordinate is being looked at by the \"looker\" coordinate in terms of images, then there is expectedly an output of POINTS.\n",
        "\n",
        "In the same way, two points that exist next to each other, but do not look at each other in their respective images, should return a feature set of lenth 0 when the \"at\" coordinate does not exist in the plain of sight of the \"looker\" coordinate.\n",
        "\n",
        "An interesting case study is below,\n",
        "\n",
        "![Skopje With Mapillary](https://drive.google.com/uc?id=1iiRDvycQMDqkpYv-Py69dMmQy2nQFhWK)\n",
        "\n",
        "This is the town of Skopje, the capital and largest city of North Macedonia.\n",
        "\n",
        "Lets zoom in into the area around Kozle and Zhdanec, specifically onto the intersection, because as we will see, a lot of points are clustered more or less at the same location,\n",
        "\n",
        "![Zoomed In](https://drive.google.com/uc?id=1YQ_C9N06bT46Z9X_GHXjLXM7woC8F_rI)\n",
        "\n",
        "For convenience, we're already standing at a \"Point\". Lets do something interactive, and lets click on the \"Point\" just below ours,\n",
        "\n",
        "![2nd Point](https://drive.google.com/uc?id=1velBbk9HxmKgqJhMv2vyE5jcA3nWoagz)\n",
        "\n",
        "For a legend,\n",
        "\n",
        "- Orange means the **POINT** currently selected\n",
        "- Green means a **POINT** currently highlted, but not clicked\n",
        "\n",
        "Notice the \"Field Of Vision\" right ahead of each point. We can clearly see the 2 points look into the opposite direction.\n",
        "\n",
        "Now, going back to what the documentation had to say above, our expected reaction should that there should be no data - that is, the feature set should be empty because the two points are not looking at each other, and thus, the \"looker\" coordinate has no other interesting points to return.\n",
        "\n",
        "Let see from the code block below if this is indeed how the SDK acts.\n",
        "\n",
        "Before doing that, you can visit these two points at these links,\n",
        "\n",
        "1. [1st Point](https://www.mapillary.com/app/?lat=41.9946319051&lng=21.3967128843&z=17&pKey=134072092089472)\n",
        "2. [2nd Point](https://www.mapillary.com/app/?lat=41.9946228527&lng=21.3967117108&z=17&pKey=166386292155378)\n",
        "\n",
        "Now, lets run the code below extracting the long and lat from the URLS, and see the result"
      ]
    },
    {
      "cell_type": "code",
      "execution_count": null,
      "metadata": {
        "id": "vTxD9MX7kHcY"
      },
      "outputs": [],
      "source": [
        "data = mly.get_image_looking_at(\n",
        "    looker={\n",
        "        \"lng\": 21.3967128843,\n",
        "        \"lat\": 41.9946319051,\n",
        "    },\n",
        "    at={\n",
        "        \"lng\": 21.3967117108,\n",
        "        \"lat\": 41.9946228527,\n",
        "    },\n",
        "    radius=1000000,\n",
        "    image_type=\"pano\",\n",
        ").to_dict()\n",
        "\n",
        "print(data)"
      ]
    },
    {
      "cell_type": "markdown",
      "metadata": {
        "id": "1Io-avslrsOK"
      },
      "source": [
        "The above piece of code should print out something like the following,\n",
        "\n",
        "```\n",
        "Requesting GET to https://tiles.mapillary.com/maps/vtp/mly1_public/2/14/9165/6082/?access_token=<access_token_here>\n",
        "INFO:mapillary.utils.client:Requesting GET to https://tiles.mapillary.com/maps/vtp/mly1_public/2/14/9165/6082/?access_token=<access_token_here>\n",
        "Response 200 OK received in 822ms\n",
        "INFO:mapillary.utils.client:Response 200 OK received in 822ms\n",
        "{'type': 'FeatureCollection', 'features': []}\n",
        "```\n",
        "\n",
        "As expected, the feature list empty, even with the radius being gigantic. This proves our hypothesis.\n",
        "\n",
        "To get a JSON saved, run the following piece of code as usual."
      ]
    },
    {
      "cell_type": "code",
      "execution_count": null,
      "metadata": {
        "id": "wvw8lHXZrbWE"
      },
      "outputs": [],
      "source": [
        "with open(\"get_image_looking_at_5.json\", mode=\"w\") as f:\n",
        "    json.dump(data, f, indent=4)"
      ]
    },
    {
      "cell_type": "markdown",
      "metadata": {
        "id": "ZjsK0M3iszEl"
      },
      "source": [
        "# mly.get_detections_with_image_id\n",
        "\n",
        "Extracting all the detections within an image using an image key\n",
        "\n",
        "[Read More](https://mapillary.github.io/mapillary-python-sdk/docs/mapillary/mapillary.interface#mapillaryinterfaceget_detections_with_image_idimage_id-int-fields-list--none)\n",
        "\n"
      ]
    },
    {
      "cell_type": "code",
      "execution_count": null,
      "metadata": {
        "id": "SCiKujr-eN7H"
      },
      "outputs": [],
      "source": [
        "data = mly.get_detections_with_image_id(image_id=1933525276802129).to_dict()\n",
        "\n",
        "with open(\"get_detections_with_image_id_1.json\", mode=\"w\") as f:\n",
        "    json.dump(data, f, indent=4)"
      ]
    },
    {
      "cell_type": "code",
      "execution_count": null,
      "metadata": {
        "id": "XyyMYA-DePrz"
      },
      "outputs": [],
      "source": [
        "data = mly.get_detections_with_image_id(image_id=488928888986256).to_dict()\n",
        "\n",
        "with open(\"get_detections_with_image_id_2.json\", mode=\"w\") as f:\n",
        "    json.dump(data, f, indent=4)"
      ]
    },
    {
      "cell_type": "code",
      "execution_count": null,
      "metadata": {
        "id": "rk9H-DLFeRgx"
      },
      "outputs": [],
      "source": [
        "  data = mly.get_detections_with_image_id(image_id=1874222149404857).to_dict()\n",
        "\n",
        "  with open(\"get_detections_with_image_id_3.json\", mode=\"w\") as f:\n",
        "      json.dump(data, f, indent=4)"
      ]
    },
    {
      "cell_type": "markdown",
      "metadata": {
        "id": "bYQJDN_ns8k8"
      },
      "source": [
        "# mly.get_detections_with_map_feature_id\n",
        "\n",
        "Extracting all detections made for a map feature key\n",
        "\n",
        "[Read More](https://mapillary.github.io/mapillary-python-sdk/docs/mapillary/mapillary.interface#mapillaryinterfaceget_detections_with_map_feature_idmap_feature_id-str-fields-list--none)"
      ]
    },
    {
      "cell_type": "code",
      "execution_count": null,
      "metadata": {
        "id": "W6TywIYqeS2n"
      },
      "outputs": [],
      "source": [
        "data = mly.get_detections_with_map_feature_id(\n",
        "    map_feature_id=852766358956987\n",
        ").to_dict()\n",
        "\n",
        "with open(\"get_detections_with_map_feature_id_1.json\", mode=\"w\") as f:\n",
        "    json.dump(data, f, indent=4)"
      ]
    },
    {
      "cell_type": "code",
      "execution_count": null,
      "metadata": {
        "id": "H7Lhuc6HeVkg"
      },
      "outputs": [],
      "source": [
        "data = mly.get_detections_with_map_feature_id(\n",
        "    map_feature_id=3976542325773247\n",
        ").to_dict()\n",
        "\n",
        "with open(\"get_detections_with_map_feature_id_2.json\", mode=\"w\") as f:\n",
        "    json.dump(data, f, indent=4)"
      ]
    },
    {
      "cell_type": "markdown",
      "metadata": {
        "id": "Mc336yuCtGC1"
      },
      "source": [
        "# mly.image_thumbnail\n",
        "\n",
        "Gets the thumbnails of images from the API\n",
        "\n",
        "[Read More](https://mapillary.github.io/mapillary-python-sdk/docs/mapillary/mapillary.interface#mapillaryinterfaceimage_thumbnailimage_id-str-resolution-int--1024)"
      ]
    },
    {
      "cell_type": "code",
      "execution_count": null,
      "metadata": {
        "id": "vXR0kX56eXRV"
      },
      "outputs": [],
      "source": [
        "open(\"image_thumbnail_1.txt\", mode=\"w\").close()\n",
        "\n",
        "for res in [256, 1024, 2048]:\n",
        "    data = mly.image_thumbnail(image_id=1874222149404857, resolution=res)\n",
        "\n",
        "    with open(\"image_thumbnail_1.txt\", mode=\"a\") as f:\n",
        "        f.write(f\"{data}\\n\")"
      ]
    },
    {
      "cell_type": "code",
      "execution_count": null,
      "metadata": {
        "id": "mNpKaaF3ebDi"
      },
      "outputs": [],
      "source": [
        "open(\"image_thumbnail_2.txt\", mode=\"w\").close()\n",
        "\n",
        "for res in [256, 1024, 2048]:\n",
        "    data = mly.image_thumbnail(image_id=1933525276802129, resolution=res)\n",
        "\n",
        "    with open(\"image_thumbnail_2.txt\", mode=\"a\") as f:\n",
        "        f.write(f\"{data}\\n\")"
      ]
    },
    {
      "cell_type": "code",
      "execution_count": null,
      "metadata": {
        "id": "IB66ags9ecdR"
      },
      "outputs": [],
      "source": [
        "open(\"image_thumbnail_3.txt\", mode=\"w\").close()\n",
        "\n",
        "for res in [256, 1024, 2048]:\n",
        "    data = mly.image_thumbnail(image_id=488928888986256, resolution=res)\n",
        "\n",
        "    with open(\"image_thumbnail_3.txt\", mode=\"a\") as f:\n",
        "        f.write(f\"{data}\\n\")"
      ]
    },
    {
      "cell_type": "markdown",
      "metadata": {
        "id": "1Nsvv4pItMRZ"
      },
      "source": [
        "#mly.images_in_bbox\n",
        "\n",
        "Gets a complete list of images with custom filter within a BBox\n",
        "\n",
        "[Read More](https://mapillary.github.io/mapillary-python-sdk/docs/mapillary/mapillary.interface#mapillaryinterfaceimages_in_bboxbbox-dict-filters)"
      ]
    },
    {
      "cell_type": "code",
      "execution_count": null,
      "metadata": {
        "id": "m1DIBSvaeeIC"
      },
      "outputs": [],
      "source": [
        "data = json.loads(\n",
        "    mly.images_in_bbox(\n",
        "        bbox={\n",
        "            \"east\": -109.2459225654602,\n",
        "            \"south\": 45.18050167118351,\n",
        "            \"west\": -109.24773573875427,\n",
        "            \"north\": 45.182150271272505,\n",
        "        },\n",
        "        max_captured_at=\"*\",\n",
        "        min_captured_at=\"2005-03-15\",\n",
        "        image_type=\"pano\",\n",
        "        compass_angle=(0, 360),\n",
        "    )\n",
        ")\n",
        "\n",
        "with open(\"images_in_bbox_1.json\", mode=\"w\") as f:\n",
        "    json.dump(data, f, indent=4)"
      ]
    },
    {
      "cell_type": "code",
      "execution_count": null,
      "metadata": {
        "id": "Akmu5k7LehUs"
      },
      "outputs": [],
      "source": [
        "data = json.loads(\n",
        "    mly.sequences_in_bbox(\n",
        "        bbox={\n",
        "            \"east\": -109.2459225654602,\n",
        "            \"south\": 45.18050167118351,\n",
        "            \"west\": -109.24773573875427,\n",
        "            \"north\": 45.182150271272505,\n",
        "        }\n",
        "    )\n",
        ")\n",
        "\n",
        "with open(\"sequences_in_bbox_1.json\", mode=\"w\") as f:\n",
        "    json.dump(data, f, indent=4)"
      ]
    },
    {
      "cell_type": "code",
      "execution_count": null,
      "metadata": {
        "id": "XosSWpgaei4j"
      },
      "outputs": [],
      "source": [
        "data = json.loads(\n",
        "      mly.map_feature_points_in_bbox(\n",
        "          {\n",
        "              \"east\": -109.2459225654602,\n",
        "              \"south\": 45.18050167118351,\n",
        "              \"west\": -109.24773573875427,\n",
        "              \"north\": 45.182150271272505,\n",
        "          }\n",
        "      )\n",
        "  )\n",
        "\n",
        "with open(\"map_feature_points_in_bbox_1.json\", mode=\"w\") as f:\n",
        "    json.dump(data, f, indent=4)"
      ]
    },
    {
      "cell_type": "code",
      "execution_count": null,
      "metadata": {
        "id": "kf4hC0PUeli0"
      },
      "outputs": [],
      "source": [
        "data = json.loads(\n",
        "    mly.traffic_signs_in_bbox(\n",
        "        {\n",
        "            \"east\": -109.2459225654602,\n",
        "            \"south\": 45.18050167118351,\n",
        "            \"west\": -109.24773573875427,\n",
        "            \"north\": 45.182150271272505,\n",
        "        },\n",
        "        filter_values=[\"complementary--keep-left--g1\"],\n",
        "    )\n",
        ")\n",
        "\n",
        "with open(\"traffic_signs_in_bbox_1.json\", mode=\"w\") as f:\n",
        "    json.dump(data, f, indent=4)"
      ]
    },
    {
      "cell_type": "markdown",
      "metadata": {
        "id": "YkxnotKpteV0"
      },
      "source": [
        "# mly.images_in_geojson\n",
        "\n",
        "Extracts all images within a shape\n",
        "\n",
        "[Read More](https://mapillary.github.io/mapillary-python-sdk/docs/mapillary/mapillary.interface#mapillaryinterfaceimages_in_geojsongeojson-dict-filters-dict)"
      ]
    },
    {
      "cell_type": "code",
      "execution_count": null,
      "metadata": {
        "id": "FTBO_MR2esLG"
      },
      "outputs": [],
      "source": [
        "data = mly.images_in_geojson(\n",
        "    images_in_geojson_1\n",
        ").to_dict()\n",
        "\n",
        "with open(\"images_in_geojson_1.json\", mode=\"w\") as f:\n",
        "    json.dump(data, f, indent=4)"
      ]
    },
    {
      "cell_type": "code",
      "execution_count": null,
      "metadata": {
        "id": "b9nrJnD8etwN"
      },
      "outputs": [],
      "source": [
        "# data = mly.images_in_geojson(\n",
        "#     json.load(open(\"./data/in/images_in_geojson_2.json\", mode=\"r\"))\n",
        "# ).to_dict()\n",
        "\n",
        "data = mly.images_in_geojson(\n",
        "    images_in_geojson_2\n",
        ").to_dict()\n",
        "\n",
        "with open(\"images_in_geojson_2.json\", mode=\"w\") as f:\n",
        "    json.dump(data, f, indent=4)"
      ]
    },
    {
      "cell_type": "code",
      "execution_count": null,
      "metadata": {
        "id": "ptoy09fKevdQ"
      },
      "outputs": [],
      "source": [
        "data = mly.images_in_geojson(\n",
        "  images_in_geojson_3\n",
        ").to_dict()\n",
        "\n",
        "with open(\"images_in_geojson_3.json\", mode=\"w\") as f:\n",
        "    json.dump(data, f, indent=4)"
      ]
    },
    {
      "cell_type": "code",
      "execution_count": null,
      "metadata": {
        "id": "k2xK6-ScsgJf"
      },
      "outputs": [],
      "source": [
        "polygon"
      ]
    },
    {
      "cell_type": "code",
      "execution_count": null,
      "metadata": {
        "id": "deF2k9FyexDd"
      },
      "outputs": [],
      "source": [
        "data = mly.images_in_shape(\n",
        "    polygon\n",
        ").to_dict()\n",
        "\n",
        "with open(\"images_in_shape_1.json\", mode=\"w\") as f:\n",
        "    json.dump(data, f, indent=4)"
      ]
    },
    {
      "cell_type": "markdown",
      "metadata": {
        "id": "FAAqeavrtnS7"
      },
      "source": [
        "# mly.feature_from_key\n",
        "\n",
        "Gets a map feature for the given key argument\n",
        "\n",
        "[Read More](https://mapillary.github.io/mapillary-python-sdk/docs/mapillary/mapillary.interface#mapillaryinterfacefeature_from_keykey-str-fields-list--)"
      ]
    },
    {
      "cell_type": "code",
      "execution_count": null,
      "metadata": {
        "id": "JmqkAbK4ey6j"
      },
      "outputs": [],
      "source": [
        "data = mly.feature_from_key(key=852766358956987)\n",
        "\n",
        "with open(\"feature_from_key_1.json\", mode=\"w\") as f:\n",
        "    json.dump(data, f, indent=4)"
      ]
    },
    {
      "cell_type": "code",
      "execution_count": null,
      "metadata": {
        "id": "0eXDM3fscgqv"
      },
      "outputs": [],
      "source": [
        "data = mly.image_from_key(key=488928888986256)\n",
        "\n",
        "with open(\"image_from_key_1.json\", mode=\"w\") as f:\n",
        "    json.dump(data, f, indent=4)"
      ]
    }
  ],
  "metadata": {
    "colab": {
      "private_outputs": true,
      "provenance": []
    },
    "kernelspec": {
      "display_name": "map",
      "language": "python",
      "name": "python3"
    },
    "language_info": {
      "codemirror_mode": {
        "name": "ipython",
        "version": 3
      },
      "file_extension": ".py",
      "mimetype": "text/x-python",
      "name": "python",
      "nbconvert_exporter": "python",
      "pygments_lexer": "ipython3",
      "version": "3.8.20"
    }
  },
  "nbformat": 4,
  "nbformat_minor": 0
}
