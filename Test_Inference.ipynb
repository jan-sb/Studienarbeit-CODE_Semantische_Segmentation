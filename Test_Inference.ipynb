{
 "cells": [
  {
   "cell_type": "code",
   "execution_count": 1,
   "metadata": {},
   "outputs": [],
   "source": [
    "from Helper.ml_models import *\n",
    "from Helper.Helper_functions import * \n",
    "from torchvision.models.segmentation import *\n",
    "import gc, sys\n",
    "from torch.utils.tensorboard import SummaryWriter"
   ]
  },
  {
   "cell_type": "code",
   "execution_count": 2,
   "metadata": {},
   "outputs": [
    {
     "name": "stdout",
     "output_type": "stream",
     "text": [
      "Using CUDA GPU\n",
      "Model loaded: deeplabv3_resnet50 | Device: cuda \n",
      "No data leaks found.\n",
      "Training Dataset prepared\n",
      "Validation Dataset prepared\n",
      "Test Dataset prepared\n"
     ]
    }
   ],
   "source": [
    "model = 'deeplabv3_resnet50'\n",
    "writer = SummaryWriter(f'K_Fold_Run/{model}_k_fold_{0}/logs')\n",
    "\n",
    "trained_model = TrainedModel(model,\n",
    "                                        2048,\n",
    "                                        1024,\n",
    "                                        folder_path='K_Fold_Run',\n",
    "                                        weights_name=f'{model}_k_fold_{0}',\n",
    "                                        start_epoch='latest', \n",
    "                                        writer=writer, \n",
    "                                        )\n",
    "k_fold_dataset = K_Fold_Dataset(image_dir='CityscapesDaten/images',\n",
    "                                        annotation_dir='CityscapesDaten/semantic',\n",
    "                                        k_fold_csv_dir='Daten/CityscapesDaten',\n",
    "                                        leave_out_fold=0, \n",
    "                                        )    \n",
    "k_fold_dataset.check_for_data_leaks()               \n",
    "        \n",
    "trained_model.prepare_model_training(dataset_train=k_fold_dataset.train_dataset,\n",
    "                                    dataset_val=k_fold_dataset.val_dataset,\n",
    "                                    dataset_test=k_fold_dataset.test_dataset,\n",
    "                                    batch_size=2, \n",
    "                                    shuffle=True, \n",
    "                                    learning_rate=1*10**(-7), \n",
    "                                    momentum=0.9,\n",
    "                                    weight_decay=0.00001, \n",
    "                                    num_workers=4, \n",
    "                                    pin_memory=True,\n",
    "                                    )"
   ]
  },
  {
   "cell_type": "code",
   "execution_count": 4,
   "metadata": {},
   "outputs": [],
   "source": [
    "for i in range(5):\n",
    "    trained_model.inference_tensorboard(0)\n",
    "    trained_model.epoch +=1"
   ]
  },
  {
   "cell_type": "code",
   "execution_count": null,
   "metadata": {},
   "outputs": [],
   "source": []
  }
 ],
 "metadata": {
  "kernelspec": {
   "display_name": "studi",
   "language": "python",
   "name": "python3"
  },
  "language_info": {
   "codemirror_mode": {
    "name": "ipython",
    "version": 3
   },
   "file_extension": ".py",
   "mimetype": "text/x-python",
   "name": "python",
   "nbconvert_exporter": "python",
   "pygments_lexer": "ipython3",
   "version": "3.9.18"
  }
 },
 "nbformat": 4,
 "nbformat_minor": 2
}
