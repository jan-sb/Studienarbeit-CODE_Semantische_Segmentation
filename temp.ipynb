{
 "cells": [
  {
   "cell_type": "code",
   "execution_count": 19,
   "metadata": {},
   "outputs": [],
   "source": [
    "import os\n",
    "import sys\n",
    "\n",
    "def get_all_files(directory, ignore_extension=True):\n",
    "    \"\"\"Erfasst alle Dateien in einem Verzeichnis und gibt eine Liste zurück, optional ohne Dateiendung.\"\"\"\n",
    "    file_set = set()\n",
    "    for root, _, files in os.walk(directory):\n",
    "        for file in files:\n",
    "            if ignore_extension:\n",
    "                file = os.path.splitext(file)[0]  # Entfernt die Endung ('.png', '.jpg', etc.)\n",
    "            rel_path = os.path.relpath(os.path.join(root, file), directory)\n",
    "            file_set.add(rel_path)\n",
    "    return file_set\n",
    "\n",
    "def compare_dirs(dir1, dir2):\n",
    "    \"\"\"Vergleicht zwei Verzeichnisse nur anhand der Dateinamen (ohne Berücksichtigung der Dateiendung).\"\"\"\n",
    "    \n",
    "    # Alle Dateien (ohne Extension) erfassen\n",
    "    files1 = get_all_files(dir1)\n",
    "    files2 = get_all_files(dir2)\n",
    "\n",
    "    # Unterschiede finden\n",
    "    only_in_dir1 = files1 - files2\n",
    "    only_in_dir2 = files2 - files1\n",
    "\n",
    "    # Ergebnis ausgeben\n",
    "    if only_in_dir1:\n",
    "        print(f\"Diese Dateien sind nur in {dir1} (unabhängig von der Dateiendung):\")\n",
    "        for file in only_in_dir1:\n",
    "            print(f\"  {file}\")\n",
    "\n",
    "    if only_in_dir2:\n",
    "        print(f\"Diese Dateien sind nur in {dir2} (unabhängig von der Dateiendung):\")\n",
    "        for file in only_in_dir2:\n",
    "            print(f\"  {file}\")\n",
    "\n",
    "    if not only_in_dir1 and not only_in_dir2:\n",
    "        print(\"✅ Die Verzeichnisse haben dieselben Dateinamen (Endungen ignoriert).\")\n",
    "\n"
   ]
  },
  {
   "cell_type": "code",
   "execution_count": 20,
   "metadata": {},
   "outputs": [
    {
     "name": "stdout",
     "output_type": "stream",
     "text": [
      "Diese Dateien sind nur in Mapilarry_Vistas/training/v2.0/labels (unabhängig von der Dateiendung):\n",
      "  _-6wpIfarPnFg-9RN4Y1mA_int8\n"
     ]
    }
   ],
   "source": [
    "folder1 = \"Mapilarry_Vistas/training/images\"\n",
    "folder2 = \"Mapilarry_Vistas/training/v2.0/labels\"\n",
    "\n",
    "compare_dirs(folder1, folder2)"
   ]
  },
  {
   "cell_type": "code",
   "execution_count": null,
   "metadata": {},
   "outputs": [],
   "source": []
  }
 ],
 "metadata": {
  "language_info": {
   "name": "python"
  }
 },
 "nbformat": 4,
 "nbformat_minor": 2
}
