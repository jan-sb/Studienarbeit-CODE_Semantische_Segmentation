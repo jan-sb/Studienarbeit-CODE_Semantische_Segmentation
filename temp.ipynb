{
 "cells": [
  {
   "cell_type": "code",
   "execution_count": 2,
   "metadata": {},
   "outputs": [
    {
     "name": "stdout",
     "output_type": "stream",
     "text": [
      "✅ Die Datei wurde erfolgreich umformatiert und als 'formatted_mapping_table.tex' gespeichert!\n"
     ]
    }
   ],
   "source": [
    "import re\n",
    "\n",
    "# Datei einlesen\n",
    "input_file = \"mapping_table.tex\"\n",
    "output_file = \"formatted_mapping_table.tex\"\n",
    "\n",
    "# Neue Zeilen speichern\n",
    "new_lines = []\n",
    "\n",
    "# Regulärer Ausdruck zum Extrahieren der Daten\n",
    "pattern = re.compile(r\"(\\d+) \\((.*?)\\) & (\\d+) \\(Unlabeled\\) & (.*?) \\\\\\\\\")\n",
    "\n",
    "# Datei Zeile für Zeile einlesen und umformatieren\n",
    "with open(input_file, \"r\", encoding=\"utf-8\") as f:\n",
    "    for line in f:\n",
    "        match = pattern.search(line)\n",
    "        if match:\n",
    "            original_class = match.group(1)  # Ursprüngliche Klasse\n",
    "            class_name = match.group(2)      # Klassenname\n",
    "            target_class = match.group(3)    # Zielklasse\n",
    "            reason = match.group(4)          # Begründung\n",
    "            \n",
    "            # Umformatierte Zeile mit Pfeil → für bessere Lesbarkeit\n",
    "            new_line = f\"{class_name} & {original_class} → {target_class} & {reason} \\\\\\\\\\n\"\n",
    "            new_lines.append(new_line)\n",
    "        else:\n",
    "            new_lines.append(line)  # Falls keine Übereinstimmung, Zeile unverändert speichern\n",
    "\n",
    "# Neue Datei mit der umformatierten Tabelle speichern\n",
    "with open(output_file, \"w\", encoding=\"utf-8\") as f:\n",
    "    f.writelines(new_lines)\n",
    "\n",
    "print(f\"✅ Die Datei wurde erfolgreich umformatiert und als '{output_file}' gespeichert!\")\n"
   ]
  },
  {
   "cell_type": "code",
   "execution_count": null,
   "metadata": {},
   "outputs": [],
   "source": []
  }
 ],
 "metadata": {
  "kernelspec": {
   "display_name": "studi",
   "language": "python",
   "name": "python3"
  },
  "language_info": {
   "codemirror_mode": {
    "name": "ipython",
    "version": 3
   },
   "file_extension": ".py",
   "mimetype": "text/x-python",
   "name": "python",
   "nbconvert_exporter": "python",
   "pygments_lexer": "ipython3",
   "version": "3.9.18"
  }
 },
 "nbformat": 4,
 "nbformat_minor": 2
}
