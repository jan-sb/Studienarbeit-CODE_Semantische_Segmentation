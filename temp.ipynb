{
 "cells": [
  {
   "cell_type": "code",
   "execution_count": 19,
   "metadata": {},
   "outputs": [],
   "source": [
    "import os\n",
    "import sys\n",
    "\n",
    "def get_all_files(directory, ignore_extension=True):\n",
    "    \"\"\"Erfasst alle Dateien in einem Verzeichnis und gibt eine Liste zurück, optional ohne Dateiendung.\"\"\"\n",
    "    file_set = set()\n",
    "    for root, _, files in os.walk(directory):\n",
    "        for file in files:\n",
    "            if ignore_extension:\n",
    "                file = os.path.splitext(file)[0]  # Entfernt die Endung ('.png', '.jpg', etc.)\n",
    "            rel_path = os.path.relpath(os.path.join(root, file), directory)\n",
    "            file_set.add(rel_path)\n",
    "    return file_set\n",
    "\n",
    "def compare_dirs(dir1, dir2):\n",
    "    \"\"\"Vergleicht zwei Verzeichnisse nur anhand der Dateinamen (ohne Berücksichtigung der Dateiendung).\"\"\"\n",
    "    \n",
    "    # Alle Dateien (ohne Extension) erfassen\n",
    "    files1 = get_all_files(dir1)\n",
    "    files2 = get_all_files(dir2)\n",
    "\n",
    "    # Unterschiede finden\n",
    "    only_in_dir1 = files1 - files2\n",
    "    only_in_dir2 = files2 - files1\n",
    "\n",
    "    # Ergebnis ausgeben\n",
    "    if only_in_dir1:\n",
    "        print(f\"Diese Dateien sind nur in {dir1} (unabhängig von der Dateiendung):\")\n",
    "        for file in only_in_dir1:\n",
    "            print(f\"  {file}\")\n",
    "\n",
    "    if only_in_dir2:\n",
    "        print(f\"Diese Dateien sind nur in {dir2} (unabhängig von der Dateiendung):\")\n",
    "        for file in only_in_dir2:\n",
    "            print(f\"  {file}\")\n",
    "\n",
    "    if not only_in_dir1 and not only_in_dir2:\n",
    "        print(\"✅ Die Verzeichnisse haben dieselben Dateinamen (Endungen ignoriert).\")\n",
    "\n"
   ]
  },
  {
   "cell_type": "code",
   "execution_count": 20,
   "metadata": {},
   "outputs": [
    {
     "name": "stdout",
     "output_type": "stream",
     "text": [
      "Diese Dateien sind nur in Mapilarry_Vistas/training/v2.0/labels (unabhängig von der Dateiendung):\n",
      "  _-6wpIfarPnFg-9RN4Y1mA_int8\n"
     ]
    }
   ],
   "source": [
    "folder1 = \"Mapilarry_Vistas/training/images\"\n",
    "folder2 = \"Mapilarry_Vistas/training/v2.0/labels\"\n",
    "\n",
    "#compare_dirs(folder1, folder2)"
   ]
  },
  {
   "cell_type": "code",
   "execution_count": 3,
   "metadata": {},
   "outputs": [
    {
     "name": "stdout",
     "output_type": "stream",
     "text": [
      "Die kleinste Auflösung wurde in 'KKOO4H_zUqoW47wy_1b5Vw.jpg' gefunden: 640x480 (Fläche: 307200 Pixel)\n"
     ]
    }
   ],
   "source": [
    "import os\n",
    "from PIL import Image\n",
    "\n",
    "# Pfad zum Ordner mit den Bildern (anpassen!)\n",
    "folder_path = \"/home/jan/studienarbeit/Studienarbeit-CODE_Semantische_Segmentation/Mapilarry_Vistas/training/images\"\n",
    "# Initialisiere Variablen für die kleinste Auflösung\n",
    "min_area = None\n",
    "min_image_file = None\n",
    "min_size = None\n",
    "\n",
    "# Gehe alle Dateien im Ordner durch\n",
    "for file in os.listdir(folder_path):\n",
    "    # Nur gängige Bildformate berücksichtigen\n",
    "    if file.lower().endswith(('.png', '.jpg', '.jpeg', '.bmp', '.gif', '.tiff')):\n",
    "        file_path = os.path.join(folder_path, file)\n",
    "        try:\n",
    "            with Image.open(file_path) as img:\n",
    "                width, height = img.size\n",
    "                area = width * height\n",
    "                # Falls noch keine Mindestauflösung definiert ist oder aktuelle Fläche kleiner ist:\n",
    "                if min_area is None or area < min_area:\n",
    "                    min_area = area\n",
    "                    min_image_file = file\n",
    "                    min_size = (width, height)\n",
    "        except Exception as e:\n",
    "            print(f\"Fehler beim Verarbeiten von {file}: {e}\")\n",
    "\n",
    "# Ergebnis ausgeben\n",
    "if min_image_file is not None:\n",
    "    print(f\"Die kleinste Auflösung wurde in '{min_image_file}' gefunden: {min_size[0]}x{min_size[1]} (Fläche: {min_area} Pixel)\")\n",
    "else:\n",
    "    print(\"Es wurden keine Bilder gefunden!\")\n"
   ]
  },
  {
   "cell_type": "code",
   "execution_count": null,
   "metadata": {},
   "outputs": [],
   "source": []
  }
 ],
 "metadata": {
  "kernelspec": {
   "display_name": "studi",
   "language": "python",
   "name": "python3"
  },
  "language_info": {
   "codemirror_mode": {
    "name": "ipython",
    "version": 3
   },
   "file_extension": ".py",
   "mimetype": "text/x-python",
   "name": "python",
   "nbconvert_exporter": "python",
   "pygments_lexer": "ipython3",
   "version": "3.9.18"
  }
 },
 "nbformat": 4,
 "nbformat_minor": 2
}
