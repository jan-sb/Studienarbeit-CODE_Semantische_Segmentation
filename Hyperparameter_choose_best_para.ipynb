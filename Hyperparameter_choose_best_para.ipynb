{
 "cells": [
  {
   "cell_type": "code",
   "execution_count": 1,
   "metadata": {},
   "outputs": [
    {
     "name": "stdout",
     "output_type": "stream",
     "text": [
      "{'lraspp_mobilenet_v3_large': '/home/jan/studienarbeit/Studienarbeit-CODE_Semantische_Segmentation/HyperparameterLOG/lraspp_mobilenet_v3_large/Hyperparameter_Tuning_Deeplabv3/train_hyper_f045fc27_12_auto_cast=True,batch_size=8,learning_rate=0.0008,max_epochs=100,weight_decay=0.0000_2025-01-19_15-06-55/checkpoint_000099/checkpoint.pkl', 'fcn_resnet101': '/home/jan/studienarbeit/Studienarbeit-CODE_Semantische_Segmentation/HyperparameterLOG/fcn_resnet101/Hyperparameter_Tuning_Deeplabv3/train_hyper_1b832ef6_47_auto_cast=True,batch_size=8,learning_rate=0.0001,max_epochs=100,weight_decay=0.0000_2025-01-23_04-37-21/checkpoint_000099/checkpoint.pkl', 'deeplabv3_resnet50': '/home/jan/studienarbeit/Studienarbeit-CODE_Semantische_Segmentation/HyperparameterLOG/deeplabv3_resnet50/Hyperparameter_Tuning_Deeplabv3/train_hyper_339081a1_34_auto_cast=True,batch_size=8,learning_rate=0.0001,max_epochs=100,weight_decay=0.0001_2025-01-15_14-54-45/checkpoint_000099/checkpoint.pkl', 'fcn_resnet50': '/home/jan/studienarbeit/Studienarbeit-CODE_Semantische_Segmentation/HyperparameterLOG/fcn_resnet50/Hyperparameter_Tuning_Deeplabv3/train_hyper_324adb25_1_auto_cast=True,batch_size=4,learning_rate=0.0001,max_epochs=100,weight_decay=0.0000_2025-01-20_10-35-40/checkpoint_000099/checkpoint.pkl', 'deeplabv3_mobilenet_v3_large': '/home/jan/studienarbeit/Studienarbeit-CODE_Semantische_Segmentation/HyperparameterLOG/deeplabv3_mobilenet_v3_large/Hyperparameter_Tuning_Deeplabv3/train_hyper_2dd3ea95_23_auto_cast=True,batch_size=8,learning_rate=0.0006,max_epochs=100,weight_decay=0.0000_2025-01-18_20-26-43/checkpoint_000099/checkpoint.pkl', 'deeplabv3_resnet101': '/home/jan/studienarbeit/Studienarbeit-CODE_Semantische_Segmentation/HyperparameterLOG/deeplabv3_resnet101/Hyperparameter_Tuning_Deeplabv3/train_hyper_d44efb15_1_auto_cast=True,batch_size=4,learning_rate=0.0001,max_epochs=100,weight_decay=0.0000_2025-01-16_10-31-56/checkpoint_000099/checkpoint.pkl'}\n"
     ]
    }
   ],
   "source": [
    "# Cell 1: Load the JSON file containing checkpoint paths\n",
    "\n",
    "import json\n",
    "\n",
    "# Load the JSON file (update the path if necessary)\n",
    "with open(\"FINAL_DATEN/best_checkpoints.json\", \"r\") as f:\n",
    "    best_checkpoints = json.load(f)\n",
    "\n",
    "# Print the loaded dictionary to verify its structure\n",
    "print(best_checkpoints)\n"
   ]
  },
  {
   "cell_type": "code",
   "execution_count": 2,
   "metadata": {},
   "outputs": [
    {
     "name": "stdout",
     "output_type": "stream",
     "text": [
      "lraspp_mobilenet_v3_large: auto_cast=True,batch_size=8,learning_rate=0.0008,max_epochs=100,weight_decay=0.0000\n",
      "fcn_resnet101: auto_cast=True,batch_size=8,learning_rate=0.0001,max_epochs=100,weight_decay=0.0000\n",
      "deeplabv3_resnet50: auto_cast=True,batch_size=8,learning_rate=0.0001,max_epochs=100,weight_decay=0.0001\n",
      "fcn_resnet50: auto_cast=True,batch_size=4,learning_rate=0.0001,max_epochs=100,weight_decay=0.0000\n",
      "deeplabv3_mobilenet_v3_large: auto_cast=True,batch_size=8,learning_rate=0.0006,max_epochs=100,weight_decay=0.0000\n",
      "deeplabv3_resnet101: auto_cast=True,batch_size=4,learning_rate=0.0001,max_epochs=100,weight_decay=0.0000\n"
     ]
    }
   ],
   "source": [
    "# Cell 2: Extract hyperparameter strings from the checkpoint paths\n",
    "\n",
    "import re\n",
    "\n",
    "def extract_hyperparams(path):\n",
    "    \"\"\"\n",
    "    Extract the hyperparameter substring from a given checkpoint path.\n",
    "    The expected format is:\n",
    "    .../train_hyper_<id>_<hyperparams>_<timestamp>/...\n",
    "    where <hyperparams> starts with 'auto_cast=' and ends right before a timestamp.\n",
    "    \"\"\"\n",
    "    # First, extract the directory name after 'train_hyper_' and before the next '/'\n",
    "    pattern = r\"train_hyper_(.*?)(?=/)\"\n",
    "    match = re.search(pattern, path)\n",
    "    if match:\n",
    "        hyper_dir = match.group(1)\n",
    "        # Use regex to capture from 'auto_cast=' until an underscore followed by a date (YYYY-MM-DD)\n",
    "        params_pattern = r\"(auto_cast=.*?)(?=_[0-9]{4}-[0-9]{2}-[0-9]{2})\"\n",
    "        params_match = re.search(params_pattern, hyper_dir)\n",
    "        if params_match:\n",
    "            return params_match.group(1)\n",
    "    return None\n",
    "\n",
    "# Iterate over all models and extract hyperparameters\n",
    "extracted_params = {}\n",
    "for model_name, path in best_checkpoints.items():\n",
    "    params_str = extract_hyperparams(path)\n",
    "    extracted_params[model_name] = params_str\n",
    "\n",
    "# Print the extracted hyperparameters for each model\n",
    "for model_name, params in extracted_params.items():\n",
    "    print(f\"{model_name}: {params}\")\n"
   ]
  },
  {
   "cell_type": "code",
   "execution_count": 3,
   "metadata": {},
   "outputs": [
    {
     "name": "stdout",
     "output_type": "stream",
     "text": [
      "lraspp_mobilenet_v3_large:\n",
      "  auto_cast: True\n",
      "  batch_size: 8\n",
      "  learning_rate: 0.0008\n",
      "  max_epochs: 100\n",
      "  weight_decay: 0.0\n",
      "\n",
      "fcn_resnet101:\n",
      "  auto_cast: True\n",
      "  batch_size: 8\n",
      "  learning_rate: 0.0001\n",
      "  max_epochs: 100\n",
      "  weight_decay: 0.0\n",
      "\n",
      "deeplabv3_resnet50:\n",
      "  auto_cast: True\n",
      "  batch_size: 8\n",
      "  learning_rate: 0.0001\n",
      "  max_epochs: 100\n",
      "  weight_decay: 0.0001\n",
      "\n",
      "fcn_resnet50:\n",
      "  auto_cast: True\n",
      "  batch_size: 4\n",
      "  learning_rate: 0.0001\n",
      "  max_epochs: 100\n",
      "  weight_decay: 0.0\n",
      "\n",
      "deeplabv3_mobilenet_v3_large:\n",
      "  auto_cast: True\n",
      "  batch_size: 8\n",
      "  learning_rate: 0.0006\n",
      "  max_epochs: 100\n",
      "  weight_decay: 0.0\n",
      "\n",
      "deeplabv3_resnet101:\n",
      "  auto_cast: True\n",
      "  batch_size: 4\n",
      "  learning_rate: 0.0001\n",
      "  max_epochs: 100\n",
      "  weight_decay: 0.0\n",
      "\n"
     ]
    }
   ],
   "source": [
    "# Cell 3: Parse the hyperparameter string into a dictionary for each model\n",
    "\n",
    "def parse_hyperparams(param_str):\n",
    "    \"\"\"\n",
    "    Given a hyperparameter string of the form:\n",
    "    auto_cast=True,batch_size=8,learning_rate=0.0008,max_epochs=100,weight_decay=0.0000\n",
    "    parse it into a dictionary with appropriate types.\n",
    "    \"\"\"\n",
    "    param_dict = {}\n",
    "    if param_str:\n",
    "        # Split by comma to get individual parameter assignments\n",
    "        params = param_str.split(',')\n",
    "        for param in params:\n",
    "            key, value = param.split('=')\n",
    "            # Convert booleans\n",
    "            if value.lower() == 'true':\n",
    "                param_dict[key] = True\n",
    "            elif value.lower() == 'false':\n",
    "                param_dict[key] = False\n",
    "            else:\n",
    "                # Convert to float or int if possible\n",
    "                try:\n",
    "                    if '.' in value:\n",
    "                        param_dict[key] = float(value)\n",
    "                    else:\n",
    "                        param_dict[key] = int(value)\n",
    "                except ValueError:\n",
    "                    param_dict[key] = value\n",
    "    return param_dict\n",
    "\n",
    "# Parse the hyperparameters for each model\n",
    "parsed_params = {model: parse_hyperparams(params_str) for model, params_str in extracted_params.items()}\n",
    "\n",
    "# Print the parsed hyperparameters for each model\n",
    "for model, params in parsed_params.items():\n",
    "    print(f\"{model}:\")\n",
    "    for key, value in params.items():\n",
    "        print(f\"  {key}: {value}\")\n",
    "    print()\n"
   ]
  },
  {
   "cell_type": "code",
   "execution_count": null,
   "metadata": {},
   "outputs": [],
   "source": []
  }
 ],
 "metadata": {
  "kernelspec": {
   "display_name": "studi",
   "language": "python",
   "name": "python3"
  },
  "language_info": {
   "codemirror_mode": {
    "name": "ipython",
    "version": 3
   },
   "file_extension": ".py",
   "mimetype": "text/x-python",
   "name": "python",
   "nbconvert_exporter": "python",
   "pygments_lexer": "ipython3",
   "version": "3.9.18"
  }
 },
 "nbformat": 4,
 "nbformat_minor": 2
}
