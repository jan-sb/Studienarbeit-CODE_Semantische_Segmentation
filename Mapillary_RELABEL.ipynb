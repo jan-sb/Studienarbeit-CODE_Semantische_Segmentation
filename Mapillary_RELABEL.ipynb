{
 "cells": [
  {
   "cell_type": "code",
   "execution_count": 8,
   "metadata": {},
   "outputs": [],
   "source": [
    "import os\n",
    "import numpy as np\n",
    "from PIL import Image\n",
    "from tqdm.notebook import tqdm  # Fortschrittsanzeige in Jupyter\n",
    "from concurrent.futures import ProcessPoolExecutor, as_completed\n"
   ]
  },
  {
   "cell_type": "code",
   "execution_count": 1,
   "metadata": {},
   "outputs": [],
   "source": [
    "def process_image(filename, input_folder, output_folder, mapping):\n",
    "    \"\"\"\n",
    "    Lädt ein Labelbild im Palette-Modus (\"P\"), wendet das Mapping an und speichert das Ergebnis,\n",
    "    wobei die ursprüngliche Palette (falls vorhanden) übernommen wird.\n",
    "    \"\"\"\n",
    "    try:\n",
    "        input_path = os.path.join(input_folder, filename)\n",
    "        output_path = os.path.join(output_folder, filename)\n",
    "        \n",
    "        # Bild im Modus \"P\" laden – so bleiben die Indexwerte erhalten\n",
    "        img = Image.open(input_path)\n",
    "        if img.mode != \"P\":\n",
    "            img = img.convert(\"P\")\n",
    "            \n",
    "        # Erhalte die Originalwerte als Numpy-Array\n",
    "        arr = np.array(img)\n",
    "        \n",
    "        # Wende das Mapping vektorisiert an\n",
    "        for src, target in mapping.items():\n",
    "            arr[arr == src] = target\n",
    "        \n",
    "        # Erstelle ein neues Bild aus dem modifizierten Array im \"P\"-Modus\n",
    "        new_img = Image.fromarray(arr.astype(np.uint8), mode=\"P\")\n",
    "        # Übernehme die Palette, falls vorhanden\n",
    "        palette = img.getpalette()\n",
    "        if palette is not None:\n",
    "            new_img.putpalette(palette)\n",
    "        \n",
    "        new_img.save(output_path)\n",
    "    except Exception as e:\n",
    "        print(f\"Fehler bei {filename}: {e}\")\n",
    "\n",
    "def process_folder(input_folder, output_folder, mapping, num_workers=8):\n",
    "    \"\"\"\n",
    "    Verarbeitet alle Bilder im input_folder parallel und speichert\n",
    "    die relabelten Bilder in output_folder.\n",
    "    \"\"\"\n",
    "    os.makedirs(output_folder, exist_ok=True)\n",
    "    files = [f for f in os.listdir(input_folder) if f.lower().endswith(('.png', '.jpg'))]\n",
    "    print(f\"{len(files)} Dateien werden verarbeitet...\")\n",
    "    \n",
    "    with ProcessPoolExecutor(max_workers=num_workers) as executor:\n",
    "        futures = [executor.submit(process_image, filename, input_folder, output_folder, mapping)\n",
    "                   for filename in files]\n",
    "        \n",
    "        for _ in tqdm(as_completed(futures), total=len(futures), desc=\"Processing Images\"):\n",
    "            pass"
   ]
  },
  {
   "cell_type": "markdown",
   "metadata": {},
   "source": [
    "# Mapping for Relabeling Mapillary Vistas to big Class Dataset"
   ]
  },
  {
   "cell_type": "code",
   "execution_count": null,
   "metadata": {},
   "outputs": [],
   "source": [
    "# Mapping-Dictionary:\n",
    "# - \"only\"-Klassen werden auf die Hauptklasse gemappt (z. B. 55 → 35).\n",
    "# - Alle in Cityscapes ausgeschlossenen Klassen werden ebenfalls entfernt (unlabeled = 123).\n",
    "# - Verkehrsrelevante Klassen (Ampeln, Schilder, Markierungen) bleiben erhalten!\n",
    "\n",
    "mapping = {\n",
    "    # ✅ Fahrbahnmarkierungen (vereinheitlicht auf Hauptklassen)\n",
    "    55: 35,  # Lane Marking (only) - Dashed Line → Lane Marking - Dashed Line\n",
    "    56: 45,  # Lane Marking (only) - Crosswalk → Lane Marking - Crosswalk\n",
    "    57: 50,  # Lane Marking (only) - Other → Lane Marking - Other\n",
    "    58: 54,  # Lane Marking (only) - Test → Lane Marking - Text\n",
    "\n",
    "    # ❌ Entfernte Klassen (bereits in Cityscapes ausgeschlossen):\n",
    "    2: 123,   # Ambiguous Barrier → Unlabeled\n",
    "    8: 123,   # Road Median → Unlabeled\n",
    "    9: 123,   # Road Side → Unlabeled\n",
    "    10: 123,  # Lane Separator → Unlabeled\n",
    "    17: 123,  # Parking → Unlabeled\n",
    "    18: 123,  # Parking Aisle → Unlabeled\n",
    "    20: 123,  # Rail Track → Unlabeled\n",
    "    23: 123,  # Service Lane → Unlabeled\n",
    "    26: 123,  # Bridge → Unlabeled\n",
    "    28: 123,  # Garage → Unlabeled\n",
    "    29: 123,  # Tunnel → Unlabeled\n",
    "    60: 123,  # Sand → Unlabeled\n",
    "    115: 123, # Vehicle Group → Unlabeled\n",
    "    119: 123, # Dynamic → Unlabeled\n",
    "    121: 123, # Ground → Unlabeled\n",
    "    122: 123, # Static → Unlabeled\n",
    "}\n"
   ]
  },
  {
   "cell_type": "markdown",
   "metadata": {},
   "source": [
    "### Für das Trainingsdatenset"
   ]
  },
  {
   "cell_type": "code",
   "execution_count": null,
   "metadata": {},
   "outputs": [],
   "source": [
    "run = False\n",
    "\n",
    "if run: \n",
    "    input_folder = \"Mapillary_Vistas/training/v2.0/labels\"         # Ordner mit den Originalbildern\n",
    "    output_folder = \"Mapillary_Vistas/training/v2.0/labels_big\"  # Zielordner für die relabelten Bilder\n",
    "\n",
    "    # Verarbeitung starten\n",
    "    process_folder(input_folder, output_folder, mapping, num_workers=8)\n"
   ]
  },
  {
   "cell_type": "markdown",
   "metadata": {},
   "source": [
    "### Für das Validierungsdatenset"
   ]
  },
  {
   "cell_type": "code",
   "execution_count": null,
   "metadata": {},
   "outputs": [],
   "source": [
    "run = False\n",
    "\n",
    "if run: \n",
    "    input_folder = \"Mapillary_Vistas/validation/v2.0/labels\"         # Ordner mit den Originalbildern\n",
    "    output_folder = \"Mapillary_Vistas/validation/v2.0/labels_big\"  # Zielordner für die relabelten Bilder\n",
    "\n",
    "    # Verarbeitung starten\n",
    "    process_folder(input_folder, output_folder, mapping, num_workers=8)\n"
   ]
  },
  {
   "cell_type": "markdown",
   "metadata": {},
   "source": [
    "# Mapping for Relabeling Mapillary Vistas to small Class Dataset"
   ]
  },
  {
   "cell_type": "code",
   "execution_count": 5,
   "metadata": {},
   "outputs": [],
   "source": [
    "# Mapping-Dictionary:\n",
    "# - \"only\"-Klassen werden auf die Hauptklasse gemappt (z. B. 55 → 35).\n",
    "# - Alle in Cityscapes ausgeschlossenen Klassen werden ebenfalls entfernt (unlabeled = 123).\n",
    "# - Verkehrsrelevante Klassen (Ampeln, Schilder, Markierungen) bleiben erhalten!\n",
    "\n",
    "mapping = {\n",
    "    # ✅ Fahrbahnmarkierungen (vereinheitlicht auf Hauptklassen)\n",
    "    55: 35,  # Lane Marking (only) - Dashed Line → Lane Marking - Dashed Line\n",
    "    56: 45,  # Lane Marking (only) - Crosswalk → Lane Marking - Crosswalk\n",
    "    57: 50,  # Lane Marking (only) - Other → Lane Marking - Other\n",
    "    58: 54,  # Lane Marking (only) - Test → Lane Marking - Text\n",
    "\n",
    "    # ❌ Entfernte Klassen (bereits in Cityscapes ausgeschlossen):\n",
    "    2: 123,   # Ambiguous Barrier → Unlabeled\n",
    "    8: 123,   # Road Median → Unlabeled\n",
    "    9: 123,   # Road Side → Unlabeled\n",
    "    10: 123,  # Lane Separator → Unlabeled\n",
    "    17: 123,  # Parking → Unlabeled\n",
    "    18: 123,  # Parking Aisle → Unlabeled\n",
    "    20: 123,  # Rail Track → Unlabeled\n",
    "    23: 123,  # Service Lane → Unlabeled\n",
    "    26: 123,  # Bridge → Unlabeled\n",
    "    28: 123,  # Garage → Unlabeled\n",
    "    29: 123,  # Tunnel → Unlabeled\n",
    "    60: 123,  # Sand → Unlabeled\n",
    "    115: 123, # Vehicle Group → Unlabeled\n",
    "    119: 123, # Dynamic → Unlabeled\n",
    "    121: 123, # Ground → Unlabeled\n",
    "    122: 123, # Static → Unlabeled\n",
    "\n",
    "    # ❌ Weitere irrelevante Klassen entfernt (NICHT in Cityscapes vorhanden):\n",
    "    0: 123,   # Bird → Unlabeled\n",
    "    1: 123,   # Ground Animal → Unlabeled\n",
    "    59: 123,  # Mountain → Unlabeled\n",
    "    62: 123,  # Snow → Unlabeled\n",
    "    63: 123,  # Terrain → Unlabeled\n",
    "    65: 123,  # Water → Unlabeled\n",
    "    66: 123,  # Banner → Unlabeled\n",
    "    67: 123,  # Bench → Unlabeled\n",
    "    68: 123,  # Bike Rack → Unlabeled\n",
    "    69: 123,  # Catch Basin → Unlabeled\n",
    "    70: 123,  # CCTV Camera → Unlabeled\n",
    "    71: 123,  # Fire Hydrant → Unlabeled\n",
    "    72: 123,  # Junction Box → Unlabeled\n",
    "    73: 123,  # Mailbox → Unlabeled\n",
    "    74: 123,  # Manhole → Unlabeled\n",
    "    75: 123,  # Parking Meter → Unlabeled\n",
    "    76: 123,  # Phone Booth → Unlabeled\n",
    "    77: 123,  # Pothole → Unlabeled\n",
    "    78: 123,  # Signage - Advertisement → Unlabeled\n",
    "    79: 123,  # Signage - Ambiguous → Unlabeled\n",
    "    80: 123,  # Signage - Back → Unlabeled\n",
    "    81: 123,  # Signage - Information → Unlabeled\n",
    "    82: 123,  # Signage - Other → Unlabeled\n",
    "    83: 123,  # Signage - Store → Unlabeled\n",
    "    87: 123,  # Traffic Sign Frame → Unlabeled\n",
    "    88: 123,  # Utility Pole → Unlabeled\n",
    "    89: 123,  # Traffic Cone → Unlabeled\n",
    "    96: 123,  # Traffic Sign - Ambiguous → Unlabeled\n",
    "    97: 123,  # Traffic Sign (Back) → Unlabeled\n",
    "    98: 123,  # Traffic Sign - Direction (Back) → Unlabeled\n",
    "    101: 123, # Traffic Sign - Parking → Unlabeled\n",
    "    104: 123, # Trash Can → Unlabeled\n",
    "    106: 123, # Boat → Unlabeled\n",
    "    109: 123, # Caravan → Unlabeled\n",
    "    113: 123, # Trailer → Unlabeled\n",
    "    117: 123, # Water Valve → Unlabeled\n",
    "    118: 123, # Car Mount → Unlabeled\n",
    "    120: 123  # Ego Vehicle → Unlabeled\n",
    "}\n"
   ]
  },
  {
   "cell_type": "markdown",
   "metadata": {},
   "source": [
    "### Für das Trainingsdatenset"
   ]
  },
  {
   "cell_type": "code",
   "execution_count": null,
   "metadata": {},
   "outputs": [],
   "source": [
    "run = False\n",
    "\n",
    "if run: \n",
    "    input_folder = \"Mapillary_Vistas/training/v2.0/labels\"         # Ordner mit den Originalbildern\n",
    "    output_folder = \"Mapillary_Vistas/training/v2.0/labels_small\"  # Zielordner für die relabelten Bilder\n",
    "\n",
    "    # Verarbeitung starten\n",
    "    process_folder(input_folder, output_folder, mapping, num_workers=8)"
   ]
  },
  {
   "cell_type": "markdown",
   "metadata": {},
   "source": [
    "### Für das Validierungsdatenset"
   ]
  },
  {
   "cell_type": "code",
   "execution_count": null,
   "metadata": {},
   "outputs": [
    {
     "name": "stdout",
     "output_type": "stream",
     "text": [
      "2000 Dateien werden verarbeitet...\n"
     ]
    },
    {
     "data": {
      "application/json": {
       "ascii": false,
       "bar_format": null,
       "colour": null,
       "elapsed": 0.008030414581298828,
       "initial": 0,
       "n": 0,
       "ncols": null,
       "nrows": null,
       "postfix": null,
       "prefix": "Processing Images",
       "rate": null,
       "total": 2000,
       "unit": "it",
       "unit_divisor": 1000,
       "unit_scale": false
      },
      "application/vnd.jupyter.widget-view+json": {
       "model_id": "6653d8134c7b4e9abfaf4baf2187f781",
       "version_major": 2,
       "version_minor": 0
      },
      "text/plain": [
       "Processing Images:   0%|          | 0/2000 [00:00<?, ?it/s]"
      ]
     },
     "metadata": {},
     "output_type": "display_data"
    }
   ],
   "source": [
    "run = False\n",
    "\n",
    "if run: \n",
    "    input_folder = \"Mapillary_Vistas/validation/v2.0/labels\"         # Ordner mit den Originalbildern\n",
    "    output_folder = \"Mapillary_Vistas/validation/v2.0/labels_small\"  # Zielordner für die relabelten Bilder\n",
    "\n",
    "    # Verarbeitung starten\n",
    "    process_folder(input_folder, output_folder, mapping, num_workers=8)\n"
   ]
  },
  {
   "cell_type": "code",
   "execution_count": null,
   "metadata": {},
   "outputs": [],
   "source": []
  }
 ],
 "metadata": {
  "kernelspec": {
   "display_name": "studi",
   "language": "python",
   "name": "python3"
  },
  "language_info": {
   "codemirror_mode": {
    "name": "ipython",
    "version": 3
   },
   "file_extension": ".py",
   "mimetype": "text/x-python",
   "name": "python",
   "nbconvert_exporter": "python",
   "pygments_lexer": "ipython3",
   "version": "3.9.18"
  }
 },
 "nbformat": 4,
 "nbformat_minor": 2
}
